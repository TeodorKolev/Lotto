{
 "cells": [
  {
   "cell_type": "markdown",
   "id": "b9dcb03e-0ba4-4930-8678-4d88746e01b3",
   "metadata": {},
   "source": [
    "Tasks:\n",
    "* Create cronjob\n",
    "* Web scrapping\n",
    "* Download zip file\n",
    "* Unzip it\n",
    "* Read file which name start with \"lotto_\"\n",
    "\n",
    "Preparation:\n",
    "* Read file\n",
    "* Extract columns 'boule_1', 'boule_2', 'boule_3', 'boule_4', 'boule_5', 'numero_chance', year\n",
    "* Set custom range of rows (slider or input), predefine ranges - last 50, all, etc.\n",
    "\n",
    "Analysis:\n",
    "* Odd / Even - (3 odd + 2 even - 814 times)\n",
    "* Define patterns: (1-9 - blue, 10-19 - yellow, etc) occurencies (by year) count and PROBABILITY https://lottometrix.com/members/analysis-euromillions.php\n",
    "* Top Hot - most occurencies in row range\n",
    "* Top Cold - less occurencies on row range\n",
    "* Overdue - Number which isn't drawn for a long time (show be beyond range)\n",
    "* Pairs and frequency (2,14 - 5 times)\n",
    "* Sum and frequency (sum of all numbers: 132 - 56 times)\n",
    "* Low / High - split on 24(or 25) occurencies - (3 low, 2 high - 529 times)\n",
    "* Consecutives (0 - 1144 times, 1 - 311 times)\n",
    "* Regularity (each number is + 7) or (+7 +8 + 9 etc)\n",
    "* Following numbers\n",
    "* Non following numbers\n",
    "* Average numbers\n",
    "* Heat map chart\n",
    "\n",
    "AI:\n",
    "* Split analysis on two groups: probability and history. Set each of them value. History value should be lesser than prob one"
   ]
  },
  {
   "cell_type": "code",
   "execution_count": 1,
   "id": "0e38c928-ad10-4abd-8157-da0425819da7",
   "metadata": {
    "tags": []
   },
   "outputs": [],
   "source": [
    "import pandas as pd\n",
    "import numpy as np\n",
    "import matplotlib.pyplot as plt\n",
    "import seaborn as sns"
   ]
  },
  {
   "cell_type": "code",
   "execution_count": 2,
   "id": "adbba909-e6a8-4d52-ba3b-6bc77f63006c",
   "metadata": {},
   "outputs": [],
   "source": [
    "file_name = \"loto_201911.csv\"\n",
    "# Create a DataFrame with all possible numbers from 1 to 49\n",
    "all_numbers = pd.DataFrame({'number': range(1, 50)})"
   ]
  },
  {
   "cell_type": "code",
   "execution_count": 3,
   "id": "38ba5ef7-9c3c-4bc9-96f9-5a6ef960e027",
   "metadata": {
    "tags": []
   },
   "outputs": [],
   "source": [
    "df = pd.read_csv(file_name, sep=\";\")"
   ]
  },
  {
   "cell_type": "code",
   "execution_count": 4,
   "id": "6810378c-2a02-44a2-9809-1516a99a0cbf",
   "metadata": {},
   "outputs": [],
   "source": [
    "df = df[['boule_1', 'boule_2', 'boule_3', 'boule_4', 'boule_5', 'numero_chance', 'date_de_tirage']]"
   ]
  },
  {
   "cell_type": "code",
   "execution_count": 5,
   "id": "901e7802-b2f0-45f7-9acd-b40f950ba948",
   "metadata": {},
   "outputs": [
    {
     "data": {
      "text/html": [
       "<div>\n",
       "<style scoped>\n",
       "    .dataframe tbody tr th:only-of-type {\n",
       "        vertical-align: middle;\n",
       "    }\n",
       "\n",
       "    .dataframe tbody tr th {\n",
       "        vertical-align: top;\n",
       "    }\n",
       "\n",
       "    .dataframe thead th {\n",
       "        text-align: right;\n",
       "    }\n",
       "</style>\n",
       "<table border=\"1\" class=\"dataframe\">\n",
       "  <thead>\n",
       "    <tr style=\"text-align: right;\">\n",
       "      <th></th>\n",
       "      <th>boule_1</th>\n",
       "      <th>boule_2</th>\n",
       "      <th>boule_3</th>\n",
       "      <th>boule_4</th>\n",
       "      <th>boule_5</th>\n",
       "      <th>numero_chance</th>\n",
       "      <th>date_de_tirage</th>\n",
       "    </tr>\n",
       "  </thead>\n",
       "  <tbody>\n",
       "    <tr>\n",
       "      <th>0</th>\n",
       "      <td>12</td>\n",
       "      <td>28</td>\n",
       "      <td>32</td>\n",
       "      <td>45</td>\n",
       "      <td>38</td>\n",
       "      <td>9</td>\n",
       "      <td>10/01/2024</td>\n",
       "    </tr>\n",
       "    <tr>\n",
       "      <th>1</th>\n",
       "      <td>6</td>\n",
       "      <td>48</td>\n",
       "      <td>11</td>\n",
       "      <td>49</td>\n",
       "      <td>46</td>\n",
       "      <td>2</td>\n",
       "      <td>08/01/2024</td>\n",
       "    </tr>\n",
       "    <tr>\n",
       "      <th>2</th>\n",
       "      <td>49</td>\n",
       "      <td>19</td>\n",
       "      <td>22</td>\n",
       "      <td>40</td>\n",
       "      <td>45</td>\n",
       "      <td>2</td>\n",
       "      <td>06/01/2024</td>\n",
       "    </tr>\n",
       "    <tr>\n",
       "      <th>3</th>\n",
       "      <td>36</td>\n",
       "      <td>1</td>\n",
       "      <td>45</td>\n",
       "      <td>9</td>\n",
       "      <td>14</td>\n",
       "      <td>3</td>\n",
       "      <td>03/01/2024</td>\n",
       "    </tr>\n",
       "    <tr>\n",
       "      <th>4</th>\n",
       "      <td>4</td>\n",
       "      <td>41</td>\n",
       "      <td>16</td>\n",
       "      <td>13</td>\n",
       "      <td>6</td>\n",
       "      <td>10</td>\n",
       "      <td>01/01/2024</td>\n",
       "    </tr>\n",
       "  </tbody>\n",
       "</table>\n",
       "</div>"
      ],
      "text/plain": [
       "   boule_1  boule_2  boule_3  boule_4  boule_5  numero_chance date_de_tirage\n",
       "0       12       28       32       45       38              9     10/01/2024\n",
       "1        6       48       11       49       46              2     08/01/2024\n",
       "2       49       19       22       40       45              2     06/01/2024\n",
       "3       36        1       45        9       14              3     03/01/2024\n",
       "4        4       41       16       13        6             10     01/01/2024"
      ]
     },
     "execution_count": 5,
     "metadata": {},
     "output_type": "execute_result"
    }
   ],
   "source": [
    "df.head()"
   ]
  },
  {
   "cell_type": "code",
   "execution_count": 6,
   "id": "e3945dcb-0a29-4f80-9739-1587ac6f091f",
   "metadata": {
    "tags": []
   },
   "outputs": [],
   "source": [
    "range_col = df['numero_chance']"
   ]
  },
  {
   "cell_type": "code",
   "execution_count": 7,
   "id": "dd493bf4-e509-46d2-8316-d06563117445",
   "metadata": {},
   "outputs": [
    {
     "data": {
      "image/png": "[encoded data removed]",
      "text/plain": [
       "<Figure size 1500x50 with 1 Axes>"
      ]
     },
     "metadata": {},
     "output_type": "display_data"
    },
    {
     "data": {
      "image/png": "[encoded data removed]",
      "text/plain": [
       "<Figure size 1500x50 with 1 Axes>"
      ]
     },
     "metadata": {},
     "output_type": "display_data"
    },
    {
     "data": {
      "image/png": "[encoded data removed]",
      "text/plain": [
       "<Figure size 1500x50 with 1 Axes>"
      ]
     },
     "metadata": {},
     "output_type": "display_data"
    }
   ],
   "source": [
    "# HEATMAP\n",
    "def exctract_data_frame(data_frame, first_n_rows=None):\n",
    "    if first_n_rows is None:\n",
    "        return data_frame.copy()  # Return a copy of the entire DataFrame\n",
    "    else:\n",
    "        return data_frame.truncate(before=0, after=first_n_rows - 1) # starts from 0\n",
    "    \n",
    "\n",
    "def show_heat_map(last_tirages=None):\n",
    "    extracted_df = exctract_data_frame(df, last_tirages)\n",
    "    # print(extracted_df.head())\n",
    "    \n",
    "    # Reshape the DataFrame to a single column\n",
    "    flat_df = pd.melt(extracted_df, value_vars=['boule_1', 'boule_2', 'boule_3', 'boule_4', 'boule_5'],\n",
    "                      var_name='boule', value_name='number')\n",
    "    # print(f'Melt:\\n{flat_df}')\n",
    "    \n",
    "    tirages_count = int(len(flat_df) / 5)\n",
    "\n",
    "    # Create a pivot table to count the occurrences of each number\n",
    "    heatmap_data = flat_df.pivot_table(index='number', aggfunc='size', fill_value=0)\n",
    "    # print(f'Pivot:\\n {heatmap_data}')\n",
    "    \n",
    "    # Add missing values from 1 to 49 with a count of 0\n",
    "    heatmap_data = heatmap_data.reindex(index=range(1, 50), fill_value=0)\n",
    "    # print(f'Pivot 2:\\n {heatmap_data}')\n",
    "\n",
    "    # Get the numbers as the x-axis labels\n",
    "    numbers = heatmap_data.index\n",
    "    # print(numbers)\n",
    "\n",
    "    # Reshape the DataFrame to a 1D array\n",
    "    heatmap_data = heatmap_data.values\n",
    "\n",
    "    # Create a heatmap\n",
    "    plt.figure(figsize=(15, 0.5))\n",
    "    # print(heatmap_data.reshape(1, -1))\n",
    "    sns.heatmap(heatmap_data.reshape(1, -1), cmap=sns.light_palette(\"seagreen\"), annot=True, fmt='d', linewidths=.5, cbar=False,\n",
    "                xticklabels=numbers)\n",
    "    plt.title(f'Heatmap of last {tirages_count} tirages')\n",
    "    plt.show()\n",
    "    # sns.barplot(data=None, x=numbers, y=heatmap_data, width=1, fill=True)\n",
    "\n",
    "    \n",
    "show_heat_map(15)\n",
    "show_heat_map(50)\n",
    "show_heat_map()"
   ]
  },
  {
   "cell_type": "code",
   "execution_count": 52,
   "id": "f8e481f2-7cad-4ed6-b561-4dc6ed639a81",
   "metadata": {
    "tags": []
   },
   "outputs": [
    {
     "name": "stdout",
     "output_type": "stream",
     "text": [
      "Pattern\n",
      "yellow-green-red-blue-purple          29\n",
      "yellow-yellow-green-blue-purple       23\n",
      "yellow-yellow-green-red-purple        19\n",
      "green-red-blue-blue-purple            18\n",
      "yellow-green-green-red-purple         17\n",
      "                                      ..\n",
      "blue-blue-blue-blue-purple             1\n",
      "yellow-red-red-red-red                 1\n",
      "yellow-yellow-purple-purple-purple     1\n",
      "green-red-red-red-blue                 1\n",
      "yellow-yellow-red-red-red              1\n",
      "Name: count, Length: 99, dtype: int64\n"
     ]
    }
   ],
   "source": [
    "# PATTERNS\n",
    "dfp = pd.DataFrame(df, columns=['boule_1', 'boule_2', 'boule_3', 'boule_4', 'boule_5']) # TODO add the date\n",
    "# print(dfp.head())\n",
    "\n",
    "# Sort the values within each row in ascending order\n",
    "sorted_df = dfp.apply(lambda row: pd.Series(row.sort_values().values), axis=1)\n",
    "# print(sorted_df.head())\n",
    "\n",
    "# Define a function to categorize a number\n",
    "def categorize_number(number):\n",
    "    if 1 <= number <= 10:\n",
    "        return 'yellow'\n",
    "    elif 11 <= number <= 20:\n",
    "        return 'green'\n",
    "    elif 21 <= number <= 30:\n",
    "        return 'red'\n",
    "    elif 31 <= number <= 40:\n",
    "        return 'blue'\n",
    "    elif 41 <= number <= 49:\n",
    "        return 'purple'\n",
    "    else:\n",
    "        return 'Out of range'\n",
    "\n",
    "# Apply the categorization function to each element in the DataFrame\n",
    "categorized_df = sorted_df.apply(lambda col: col.map(categorize_number))\n",
    "\n",
    "# Join the results to create a 'Pattern' column for each row\n",
    "categorized_df['Pattern'] = categorized_df.apply(lambda row: '-'.join(row), axis=1)\n",
    "\n",
    "# Display the result\n",
    "# print(categorized_df)\n",
    "\n",
    "# Count occurrences of each unique pattern\n",
    "pattern_counts = categorized_df['Pattern'].value_counts()\n",
    "\n",
    "# Display the result\n",
    "print(pattern_counts)"
   ]
  },
  {
   "cell_type": "code",
   "execution_count": 50,
   "id": "a42c1847-604d-4380-ab5d-90c1b22dbd85",
   "metadata": {
    "tags": []
   },
   "outputs": [
    {
     "data": {
      "image/png": "[encoded data removed]",
      "text/plain": [
       "<Figure size 300x100 with 1 Axes>"
      ]
     },
     "metadata": {},
     "output_type": "display_data"
    }
   ],
   "source": [
    "import matplotlib.pyplot as plt\n",
    "\n",
    "# Define color names and corresponding colors\n",
    "color_names = ['yellow', 'green', 'red', 'blue', 'purple']\n",
    "colors = ['#ffd92f', '#8de5a1', '#f77189', '#3ba3ec', '#bb83f4']\n",
    "\n",
    "# Create a bar plot with color blocks\n",
    "fig, ax = plt.subplots(figsize=(3, 1))\n",
    "ax.bar(color_names, [1] * len(color_names), color=colors)\n",
    "\n",
    "# Remove y-axis ticks and labels\n",
    "ax.set_yticks([])\n",
    "ax.set_ylabel('')\n",
    "\n",
    "plt.show()"
   ]
  },
  {
   "cell_type": "code",
   "execution_count": null,
   "id": "a5e75cc7-c7d5-47db-88ab-28a62eabf8b9",
   "metadata": {},
   "outputs": [],
   "source": []
  }
 ],
 "metadata": {
  "kernelspec": {
   "display_name": "Python 3 (ipykernel)",
   "language": "python",
   "name": "python3"
  },
  "language_info": {
   "codemirror_mode": {
    "name": "ipython",
    "version": 3
   },
   "file_extension": ".py",
   "mimetype": "text/x-python",
   "name": "python",
   "nbconvert_exporter": "python",
   "pygments_lexer": "ipython3",
   "version": "3.11.5"
  }
 },
 "nbformat": 4,
 "nbformat_minor": 5
}
