{
 "cells": [
  {
   "cell_type": "markdown",
   "id": "b9dcb03e-0ba4-4930-8678-4d88746e01b3",
   "metadata": {},
   "source": [
    "Tasks:\n",
    "* Create cronjob\n",
    "* Web scrapping\n",
    "* Download zip file\n",
    "* Unzip it\n",
    "* Read file which name start with \"lotto_\"\n",
    "\n",
    "Preparation:\n",
    "* Read file\n",
    "* Extract columns 'boule_1', 'boule_2', 'boule_3', 'boule_4', 'boule_5', 'numero_chance', year\n",
    "* Set custom range of rows (slider or input), predefine ranges - last 50, all, etc.\n",
    "\n",
    "Analysis:\n",
    "* Odd / Even - (3 odd + 2 even - 814 times)\n",
    "* Define patterns: (1-9 - blue, 10-19 - yellow, etc) occurencies (by year) count and PROBABILITY https://lottometrix.com/members/analysis-euromillions.php\n",
    "* Top Hot - most occurencies in row range\n",
    "* Top Cold - less occurencies on row range\n",
    "* Overdue - Number which isn't drawn for a long time (show be beyond range)\n",
    "* Pairs and frequency (2,14 - 5 times)\n",
    "* Sum and frequency (sum of all numbers: 132 - 56 times)\n",
    "* Low / High - split on 24(or 25) occurencies - (3 low, 2 high - 529 times)\n",
    "* Consecutives (0 - 1144 times, 1 - 311 times)\n",
    "* Regularity (each number is + 7) or (+7 +8 + 9 etc)\n",
    "* Following numbers\n",
    "* Non following numbers\n",
    "* Average numbers\n",
    "* Heat map chart\n",
    "\n",
    "AI:\n",
    "* Split analysis on two groups: probability and history. Set each of them value. History value should be lesser than prob one"
   ]
  },
  {
   "cell_type": "code",
   "execution_count": 1,
   "id": "0e38c928-ad10-4abd-8157-da0425819da7",
   "metadata": {
    "tags": []
   },
   "outputs": [],
   "source": [
    "import pandas as pd\n",
    "import numpy as np\n",
    "import matplotlib.pyplot as plt\n",
    "import seaborn as sns"
   ]
  },
  {
   "cell_type": "code",
   "execution_count": 2,
   "id": "d88ec77a-9e2d-41bf-ad7d-1c7afbc1784e",
   "metadata": {
    "tags": []
   },
   "outputs": [
    {
     "name": "stdout",
     "output_type": "stream",
     "text": [
      "Downloaded and extracted successfully to ./\n"
     ]
    }
   ],
   "source": [
    "# Web scrapping\n",
    "import requests\n",
    "import zipfile\n",
    "import os\n",
    "\n",
    "def download_and_extract_zip(url, destination_folder):\n",
    "    # Step 1: Download the zip file\n",
    "    response = requests.get(url)\n",
    "    \n",
    "    if response.status_code == 200:\n",
    "        # Step 2: Save the zip file locally\n",
    "        zip_filename = \"downloaded_file.zip\"\n",
    "        with open(zip_filename, 'wb') as f:\n",
    "            f.write(response.content)\n",
    "\n",
    "        # Step 3: Extract the contents of the zip file\n",
    "        with zipfile.ZipFile(zip_filename, 'r') as zip_ref:\n",
    "            zip_ref.extractall(destination_folder)\n",
    "\n",
    "        # Step 4: Delete the zip file\n",
    "        os.remove(zip_filename)\n",
    "        print(f\"Downloaded and extracted successfully to {destination_folder}\")\n",
    "    else:\n",
    "        print(f\"Failed to download the file. HTTP status code: {response.status_code}\")\n",
    "\n",
    "# Example usage\n",
    "url_to_zip = \"https://media.fdj.fr/static-draws/csv/loto/loto_201911.zip\"\n",
    "download_destination = \"./\"\n",
    "\n",
    "download_and_extract_zip(url_to_zip, download_destination)"
   ]
  },
  {
   "cell_type": "code",
   "execution_count": 3,
   "id": "adbba909-e6a8-4d52-ba3b-6bc77f63006c",
   "metadata": {},
   "outputs": [],
   "source": [
    "file_name = \"loto_201911.csv\"\n",
    "# Create a DataFrame with all possible numbers from 1 to 49\n",
    "all_numbers = pd.DataFrame({'number': range(1, 50)})"
   ]
  },
  {
   "cell_type": "code",
   "execution_count": 4,
   "id": "38ba5ef7-9c3c-4bc9-96f9-5a6ef960e027",
   "metadata": {
    "tags": []
   },
   "outputs": [],
   "source": [
    "df = pd.read_csv(file_name, sep=\";\")"
   ]
  },
  {
   "cell_type": "code",
   "execution_count": 5,
   "id": "6810378c-2a02-44a2-9809-1516a99a0cbf",
   "metadata": {},
   "outputs": [],
   "source": [
    "df = df[['boule_1', 'boule_2', 'boule_3', 'boule_4', 'boule_5', 'numero_chance', 'date_de_tirage']]"
   ]
  },
  {
   "cell_type": "code",
   "execution_count": 6,
   "id": "901e7802-b2f0-45f7-9acd-b40f950ba948",
   "metadata": {},
   "outputs": [
    {
     "data": {
      "text/html": [
       "<div>\n",
       "<style scoped>\n",
       "    .dataframe tbody tr th:only-of-type {\n",
       "        vertical-align: middle;\n",
       "    }\n",
       "\n",
       "    .dataframe tbody tr th {\n",
       "        vertical-align: top;\n",
       "    }\n",
       "\n",
       "    .dataframe thead th {\n",
       "        text-align: right;\n",
       "    }\n",
       "</style>\n",
       "<table border=\"1\" class=\"dataframe\">\n",
       "  <thead>\n",
       "    <tr style=\"text-align: right;\">\n",
       "      <th></th>\n",
       "      <th>boule_1</th>\n",
       "      <th>boule_2</th>\n",
       "      <th>boule_3</th>\n",
       "      <th>boule_4</th>\n",
       "      <th>boule_5</th>\n",
       "      <th>numero_chance</th>\n",
       "      <th>date_de_tirage</th>\n",
       "    </tr>\n",
       "  </thead>\n",
       "  <tbody>\n",
       "    <tr>\n",
       "      <th>0</th>\n",
       "      <td>42</td>\n",
       "      <td>4</td>\n",
       "      <td>23</td>\n",
       "      <td>15</td>\n",
       "      <td>12</td>\n",
       "      <td>1</td>\n",
       "      <td>03/02/2024</td>\n",
       "    </tr>\n",
       "    <tr>\n",
       "      <th>1</th>\n",
       "      <td>34</td>\n",
       "      <td>2</td>\n",
       "      <td>13</td>\n",
       "      <td>15</td>\n",
       "      <td>31</td>\n",
       "      <td>8</td>\n",
       "      <td>31/01/2024</td>\n",
       "    </tr>\n",
       "    <tr>\n",
       "      <th>2</th>\n",
       "      <td>27</td>\n",
       "      <td>26</td>\n",
       "      <td>8</td>\n",
       "      <td>9</td>\n",
       "      <td>15</td>\n",
       "      <td>4</td>\n",
       "      <td>29/01/2024</td>\n",
       "    </tr>\n",
       "    <tr>\n",
       "      <th>3</th>\n",
       "      <td>47</td>\n",
       "      <td>2</td>\n",
       "      <td>14</td>\n",
       "      <td>33</td>\n",
       "      <td>30</td>\n",
       "      <td>5</td>\n",
       "      <td>27/01/2024</td>\n",
       "    </tr>\n",
       "    <tr>\n",
       "      <th>4</th>\n",
       "      <td>25</td>\n",
       "      <td>9</td>\n",
       "      <td>34</td>\n",
       "      <td>31</td>\n",
       "      <td>32</td>\n",
       "      <td>5</td>\n",
       "      <td>24/01/2024</td>\n",
       "    </tr>\n",
       "  </tbody>\n",
       "</table>\n",
       "</div>"
      ],
      "text/plain": [
       "   boule_1  boule_2  boule_3  boule_4  boule_5  numero_chance date_de_tirage\n",
       "0       42        4       23       15       12              1     03/02/2024\n",
       "1       34        2       13       15       31              8     31/01/2024\n",
       "2       27       26        8        9       15              4     29/01/2024\n",
       "3       47        2       14       33       30              5     27/01/2024\n",
       "4       25        9       34       31       32              5     24/01/2024"
      ]
     },
     "execution_count": 6,
     "metadata": {},
     "output_type": "execute_result"
    }
   ],
   "source": [
    "df.head()"
   ]
  },
  {
   "cell_type": "code",
   "execution_count": 7,
   "id": "e3945dcb-0a29-4f80-9739-1587ac6f091f",
   "metadata": {
    "tags": []
   },
   "outputs": [],
   "source": [
    "range_col = df['numero_chance']"
   ]
  },
  {
   "cell_type": "code",
   "execution_count": 8,
   "id": "dd493bf4-e509-46d2-8316-d06563117445",
   "metadata": {},
   "outputs": [
    {
     "data": {
      "image/png": "[encoded data removed]",
      "text/plain": [
       "<Figure size 1500x50 with 1 Axes>"
      ]
     },
     "metadata": {},
     "output_type": "display_data"
    },
    {
     "data": {
      "image/png": "[encoded data removed]",
      "text/plain": [
       "<Figure size 1500x50 with 1 Axes>"
      ]
     },
     "metadata": {},
     "output_type": "display_data"
    },
    {
     "data": {
      "image/png": "[encoded data removed]",
      "text/plain": [
       "<Figure size 1500x50 with 1 Axes>"
      ]
     },
     "metadata": {},
     "output_type": "display_data"
    },
    {
     "data": {
      "image/png": "[encoded data removed]",
      "text/plain": [
       "<Figure size 1500x50 with 1 Axes>"
      ]
     },
     "metadata": {},
     "output_type": "display_data"
    }
   ],
   "source": [
    "# HEATMAP\n",
    "def exctract_data_frame(data_frame, first_n_rows=None):\n",
    "    if first_n_rows is None:\n",
    "        return data_frame.copy()  # Return a copy of the entire DataFrame\n",
    "    else:\n",
    "        return data_frame.truncate(before=0, after=first_n_rows - 1) # starts from 0\n",
    "    \n",
    "\n",
    "def show_heat_map(last_tirages=None):\n",
    "    extracted_df = exctract_data_frame(df, last_tirages)\n",
    "    # print(extracted_df.head())\n",
    "    \n",
    "    # Reshape the DataFrame to a single column\n",
    "    flat_df = pd.melt(extracted_df, value_vars=['boule_1', 'boule_2', 'boule_3', 'boule_4', 'boule_5'],\n",
    "                      var_name='boule', value_name='number')\n",
    "    # print(f'Melt:\\n{flat_df}')\n",
    "    \n",
    "    tirages_count = int(len(flat_df) / 5)\n",
    "\n",
    "    # Create a pivot table to count the occurrences of each number\n",
    "    heatmap_data = flat_df.pivot_table(index='number', aggfunc='size', fill_value=0)\n",
    "    # print(f'Pivot:\\n {heatmap_data}')\n",
    "    \n",
    "    # Add missing values from 1 to 49 with a count of 0\n",
    "    heatmap_data = heatmap_data.reindex(index=range(1, 50), fill_value=0)\n",
    "    # print(f'Pivot 2:\\n {heatmap_data}')\n",
    "\n",
    "    # Get the numbers as the x-axis labels\n",
    "    numbers = heatmap_data.index\n",
    "    # print(numbers)\n",
    "\n",
    "    # Reshape the DataFrame to a 1D array\n",
    "    heatmap_data = heatmap_data.values\n",
    "\n",
    "    # Create a heatmap\n",
    "    plt.figure(figsize=(15, 0.5))\n",
    "    # print(heatmap_data.reshape(1, -1))\n",
    "    sns.heatmap(heatmap_data.reshape(1, -1), cmap=sns.light_palette(\"seagreen\"), annot=True, fmt='d', linewidths=.5, cbar=False,\n",
    "                xticklabels=numbers)\n",
    "    plt.title(f'Heatmap of last {tirages_count} tirages')\n",
    "    plt.show()\n",
    "    # sns.barplot(data=None, x=numbers, y=heatmap_data, width=1, fill=True)\n",
    "\n",
    "    \n",
    "show_heat_map(5)\n",
    "show_heat_map(15)\n",
    "show_heat_map(50)\n",
    "show_heat_map()"
   ]
  },
  {
   "cell_type": "code",
   "execution_count": 9,
   "id": "f8e481f2-7cad-4ed6-b561-4dc6ed639a81",
   "metadata": {
    "tags": []
   },
   "outputs": [
    {
     "name": "stdout",
     "output_type": "stream",
     "text": [
      "         0       1       2       3       4                            Pattern\n",
      "0    green  yellow  yellow     red    blue       green-yellow-yellow-red-blue\n",
      "1    green  yellow  yellow  purple  purple  green-yellow-yellow-purple-purple\n",
      "2    green   green  yellow     red     red         green-green-yellow-red-red\n",
      "3    green  yellow     red  purple    blue       green-yellow-red-purple-blue\n",
      "4    green     red  purple  purple  purple     green-red-purple-purple-purple\n",
      "5    green  yellow     red  purple  purple     green-yellow-red-purple-purple\n",
      "6   yellow    blue    blue    blue    blue         yellow-blue-blue-blue-blue\n",
      "7    green     red     red  purple  purple        green-red-red-purple-purple\n",
      "8    green  yellow  yellow  yellow     red     green-yellow-yellow-yellow-red\n",
      "9   yellow  yellow     red     red    blue         yellow-yellow-red-red-blue\n",
      "10  yellow     red  purple  purple    blue      yellow-red-purple-purple-blue\n",
      "11   green  yellow    blue    blue    blue        green-yellow-blue-blue-blue\n",
      "12  yellow     red  purple    blue    blue        yellow-red-purple-blue-blue\n",
      "13   green   green  yellow  purple    blue     green-green-yellow-purple-blue\n",
      "14   green   green  yellow  yellow    blue     green-green-yellow-yellow-blue\n",
      "15   green  yellow  yellow  purple  purple  green-yellow-yellow-purple-purple\n",
      "16  yellow  yellow     red     red    blue         yellow-yellow-red-red-blue\n",
      "17   green   green   green  purple    blue      green-green-green-purple-blue\n",
      "18   green     red     red     red  purple           green-red-red-red-purple\n",
      "19   green   green     red     red  purple         green-green-red-red-purple\n",
      "Pattern\n",
      "green-yellow-red-purple-blue        30\n",
      "green-green-yellow-purple-blue      23\n",
      "green-green-yellow-red-blue         19\n",
      "green-yellow-yellow-red-blue        18\n",
      "yellow-red-purple-purple-blue       18\n",
      "                                    ..\n",
      "purple-purple-blue-blue-blue         1\n",
      "red-red-purple-purple-purple         1\n",
      "purple-blue-blue-blue-blue           1\n",
      "purple-purple-purple-purple-blue     1\n",
      "green-green-red-red-red              1\n",
      "Name: count, Length: 100, dtype: int64\n"
     ]
    }
   ],
   "source": [
    "# PATTERNS\n",
    "dfp = pd.DataFrame(df, columns=['boule_1', 'boule_2', 'boule_3', 'boule_4', 'boule_5']) # TODO add the date\n",
    "# print(dfp.head())\n",
    "\n",
    "# Sort the values within each row in ascending order\n",
    "sorted_df = dfp.apply(lambda row: pd.Series(row.sort_values().values), axis=1)\n",
    "# print(sorted_df.head())\n",
    "\n",
    "# Define a function to categorize a number\n",
    "def categorize_number(number):\n",
    "    if 1 <= number <= 10:\n",
    "        return 'green'\n",
    "    elif 11 <= number <= 20:\n",
    "        return 'yellow'\n",
    "    elif 21 <= number <= 30:\n",
    "        return 'red'\n",
    "    elif 31 <= number <= 40:\n",
    "        return 'purple'\n",
    "    elif 41 <= number <= 49:\n",
    "        return 'blue'\n",
    "    else:\n",
    "        return 'Out of range'\n",
    "\n",
    "# Apply the categorization function to each element in the DataFrame\n",
    "categorized_df = sorted_df.apply(lambda col: col.map(categorize_number))\n",
    "\n",
    "# Join the results to create a 'Pattern' column for each row\n",
    "categorized_df['Pattern'] = categorized_df.apply(lambda row: '-'.join(row), axis=1)\n",
    "\n",
    "# Display the result\n",
    "print(categorized_df.head(20))\n",
    "\n",
    "# Count occurrences of each unique pattern\n",
    "pattern_counts = categorized_df['Pattern'].value_counts()\n",
    "\n",
    "# Display the result\n",
    "print(pattern_counts)"
   ]
  },
  {
   "cell_type": "code",
   "execution_count": 10,
   "id": "81557f66-5ff8-4025-828d-a068b63ee91b",
   "metadata": {
    "tags": []
   },
   "outputs": [
    {
     "name": "stdout",
     "output_type": "stream",
     "text": [
      "Legend:\n"
     ]
    },
    {
     "data": {
      "image/png": "[encoded data removed]",
      "text/plain": [
       "<Figure size 300x50 with 1 Axes>"
      ]
     },
     "metadata": {},
     "output_type": "display_data"
    }
   ],
   "source": [
    "import matplotlib.pyplot as plt\n",
    "import matplotlib.patches as patches\n",
    "\n",
    "# Set the size of the plot\n",
    "fig, ax = plt.subplots(figsize=(3, 0.5))  # Width: 2 inches, Height: 0.7 inches\n",
    "\n",
    "# Define the number of rectangles\n",
    "num_rectangles = 5\n",
    "\n",
    "# Define the starting point and size of the first rectangle\n",
    "x, y = 0.0, 0.0\n",
    "width, height = 1.0, 1.0\n",
    "\n",
    "# Color names for each rectangle\n",
    "colors = ['#8de5a1', '#ffd92f', '#f77189', '#bb83f4', '#3ba3ec']\n",
    "\n",
    "# Create and display rectangles with different colors\n",
    "for i in range(num_rectangles):\n",
    "    color = colors[i]\n",
    "    rectangle = patches.Rectangle((x, y), width, height, edgecolor='black', facecolor=color)\n",
    "    ax.add_patch(rectangle)\n",
    "    x += width  # Move to the next position\n",
    "\n",
    "# Remove x-axis and y-axis labels\n",
    "ax.set_xticks([width * i + width/2 for i in range(num_rectangles)])\n",
    "ax.set_yticks([])\n",
    "ax.set_xticklabels(['1-10', '11-20', '21-30', '31-40', '41-49'])\n",
    "ax.set_ylabel('')\n",
    "\n",
    "# Set axis limits\n",
    "ax.set_xlim(0, num_rectangles * width)\n",
    "ax.set_ylim(0, height)\n",
    "\n",
    "# Display the plot\n",
    "print(\"Legend:\")\n",
    "plt.show()"
   ]
  },
  {
   "cell_type": "code",
   "execution_count": 17,
   "id": "de41616b-0d74-4a9b-b2ef-bd3603d77181",
   "metadata": {
    "tags": []
   },
   "outputs": [
    {
     "data": {
      "image/png": "[encoded data removed]",
      "text/plain": [
       "<Figure size 300x1000 with 1 Axes>"
      ]
     },
     "metadata": {},
     "output_type": "display_data"
    }
   ],
   "source": [
    "import matplotlib.pyplot as plt\n",
    "import matplotlib.patches as patches\n",
    "import pandas as pd\n",
    "\n",
    "# Color names and codes\n",
    "color_names = ['green', 'yellow', 'red', 'purple', 'blue']\n",
    "colors = ['#8de5a1', '#ffd92f', '#f77189', '#bb83f4', '#3ba3ec']\n",
    "\n",
    "# Create a Pandas DataFrame\n",
    "data = {\n",
    "    'Pattern': [\n",
    "        'green-yellow-yellow-red-blue',\n",
    "        'green-yellow-yellow-purple-purple',\n",
    "        'green-green-yellow-red-red',\n",
    "        'green-yellow-red-purple-blue',\n",
    "        'green-red-purple-purple-purple',\n",
    "        'green-yellow-red-purple-purple',\n",
    "        'yellow-blue-blue-blue-blue',\n",
    "        'green-red-red-purple-purple',\n",
    "        'green-yellow-yellow-yellow-red',\n",
    "        'yellow-yellow-red-red-blue',\n",
    "        'yellow-red-purple-purple-blue',\n",
    "        'green-yellow-blue-blue-blue',\n",
    "        'yellow-red-purple-blue-blue',\n",
    "        'green-green-yellow-purple-blue',\n",
    "        'green-green-yellow-yellow-blue',\n",
    "        'green-yellow-yellow-purple-purple',\n",
    "        'yellow-yellow-red-red-blue',\n",
    "        'green-green-green-purple-blue',\n",
    "        'green-red-red-red-purple',\n",
    "        'green-green-red-red-purple'\n",
    "    ]\n",
    "}\n",
    "\n",
    "df = pd.DataFrame(data)\n",
    "\n",
    "# Set the size of the plot\n",
    "fig, ax = plt.subplots(figsize=(3, len(df) / 2))  # Width: 8 inches, Height: number of rows in the DataFrame\n",
    "\n",
    "# Display rectangles for each row in the DataFrame\n",
    "for index, row in df[::-1].iterrows():\n",
    "    pattern_colors = row['Pattern'].split('-')\n",
    "    rectangles = [patches.Rectangle((i, len(df) - index - 1), 1, 1, edgecolor='black', facecolor=colors[color_names.index(color)]) for i, color in enumerate(pattern_colors)]\n",
    "    for rectangle in rectangles:\n",
    "        ax.add_patch(rectangle)\n",
    "\n",
    "# Remove x-axis and y-axis labels\n",
    "ax.set_xticks([])\n",
    "ax.set_yticks([])\n",
    "ax.set_xlabel('')\n",
    "ax.set_ylabel('')\n",
    "\n",
    "# Set axis limits\n",
    "ax.set_xlim(0, len(pattern_colors))\n",
    "ax.set_ylim(0, len(df))\n",
    "\n",
    "# Display the plot\n",
    "plt.show()\n"
   ]
  },
  {
   "cell_type": "code",
   "execution_count": 140,
   "id": "f4a2f3ea-1802-48f8-9fe1-7ce0ceac355b",
   "metadata": {
    "tags": []
   },
   "outputs": [
    {
     "name": "stdout",
     "output_type": "stream",
     "text": [
      "First Row Features: [[0 1 1 2 4]]\n",
      "Predicted Next Items: [array([0, 1, 2, 4, 4]), array([0, 2, 3, 3, 4]), array([0, 2, 2, 3, 3]), array([0, 1, 2, 3, 4]), array([0, 2, 1, 3, 4])]\n",
      "Test Set Accuracy: 0.4330827067669173\n"
     ]
    }
   ],
   "source": [
    "from sklearn.model_selection import train_test_split\n",
    "from sklearn.tree import DecisionTreeClassifier\n",
    "from sklearn.metrics import accuracy_score\n",
    "import joblib\n",
    "\n",
    "import numpy as np\n",
    "import pandas as pd\n",
    "\n",
    "# Your historical data\n",
    "data = {\n",
    "    'Pattern': categorized_df['Pattern'].values\n",
    "}\n",
    "\n",
    "df = pd.DataFrame(data)\n",
    "\n",
    "# Convert color names to numerical values for training the classifier\n",
    "color_mapping = {'green': 0, 'yellow': 1, 'red': 2, 'purple': 3, 'blue': 4}\n",
    "\n",
    "df['PatternEncoded'] = df['Pattern'].apply(lambda x: [color_mapping[color] for color in x.split('-')])\n",
    "\n",
    "# # Split the data into features (X) and target (y)\n",
    "# X = df['PatternEncoded'].iloc[:-1].tolist()  # Use all rows except the last one as features\n",
    "# y = df['PatternEncoded'].shift(-1).dropna().tolist()  # Shift the target by one row to predict the next row\n",
    "\n",
    "# # Assuming X is your feature matrix, and y is the list of lists representing labels\n",
    "# X_train, X_test, y_train, y_test = train_test_split(X, y, test_size=0.2, random_state=42)\n",
    "\n",
    "# # Create and train the Decision Tree Classifier\n",
    "# clf = DecisionTreeClassifier()\n",
    "# clf.fit(X_train, y_train)\n",
    "\n",
    "#Sore model\n",
    "# joblib.dump(clf, 'pattern-oracle.joblib')\n",
    "clf = joblib.load('pattern-oracle.joblib')\n",
    "\n",
    "# Extract features from the first row of your data\n",
    "first_row_features = np.array(df['PatternEncoded'].iloc[0])\n",
    "\n",
    "# Reshape the features array to match the expected input shape of the classifier\n",
    "first_row_features = first_row_features.reshape(1, -1)\n",
    "print(\"First Row Features:\", first_row_features)\n",
    "\n",
    "# Make predictions for the next 5 items\n",
    "predicted_next_items = []\n",
    "for _ in range(5):\n",
    "    predicted_item = clf.predict(first_row_features)\n",
    "    predicted_next_items.append(predicted_item[0])  # Append the predicted item to the list\n",
    "    first_row_features = np.array([predicted_item]).reshape(1, -1)  # Update input for the next prediction\n",
    "\n",
    "print(\"Predicted Next Items:\", predicted_next_items)\n",
    "\n",
    "# Assuming X_test is your test feature matrix\n",
    "# Assuming y_test is the true labels for the test set\n",
    "y_pred_test = clf.predict(X_test)\n",
    "\n",
    "# Flatten the predicted and true labels\n",
    "y_pred_test_flat = [item for sublist in y_pred_test for item in sublist]\n",
    "y_test_flat = [item for sublist in y_test for item in sublist]\n",
    "\n",
    "# Calculate accuracy\n",
    "accuracy = accuracy_score(y_test_flat, y_pred_test_flat)\n",
    "print(f'Test Set Accuracy: {accuracy}')"
   ]
  },
  {
   "cell_type": "code",
   "execution_count": null,
   "id": "63c79ace-d953-41be-b357-1cf947e88667",
   "metadata": {},
   "outputs": [],
   "source": []
  }
 ],
 "metadata": {
  "kernelspec": {
   "display_name": "Python 3 (ipykernel)",
   "language": "python",
   "name": "python3"
  },
  "language_info": {
   "codemirror_mode": {
    "name": "ipython",
    "version": 3
   },
   "file_extension": ".py",
   "mimetype": "text/x-python",
   "name": "python",
   "nbconvert_exporter": "python",
   "pygments_lexer": "ipython3",
   "version": "3.11.5"
  }
 },
 "nbformat": 4,
 "nbformat_minor": 5
}
