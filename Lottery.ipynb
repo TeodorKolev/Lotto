{
 "cells": [
  {
   "cell_type": "markdown",
   "id": "b9dcb03e-0ba4-4930-8678-4d88746e01b3",
   "metadata": {},
   "source": [
    "Tasks:\n",
    "* Create cronjob\n",
    "* Web scrapping\n",
    "* Download zip file\n",
    "* Unzip it\n",
    "* Read file which name start with \"lotto_\"\n",
    "\n",
    "Preparation:\n",
    "* Read file\n",
    "* Extract columns 'boule_1', 'boule_2', 'boule_3', 'boule_4', 'boule_5', 'numero_chance', year\n",
    "* Set custom range of rows (slider or input), predefine ranges - last 50, all, etc.\n",
    "\n",
    "Analysis:\n",
    "* Odd / Even - (3 odd + 2 even - 814 times)\n",
    "* Define patterns: (1-9 - blue, 10-19 - yellow, etc) occurencies (by year) count and PROBABILITY https://lottometrix.com/members/analysis-euromillions.php\n",
    "* Top Hot - most occurencies in row range\n",
    "* Top Cold - less occurencies on row range\n",
    "* Overdue - Number which isn't drawn for a long time (show be beyond range)\n",
    "* Pairs and frequency (2,14 - 5 times)\n",
    "* Sum and frequency (sum of all numbers: 132 - 56 times)\n",
    "* Low / High - split on 24(or 25) occurencies - (3 low, 2 high - 529 times)\n",
    "* Consecutives (0 - 1144 times, 1 - 311 times)\n",
    "* Regularity (each number is + 7) or (+7 +8 + 9 etc)\n",
    "* Following numbers\n",
    "* Non following numbers\n",
    "* Average numbers\n",
    "* Heat map chart\n",
    "\n",
    "AI:\n",
    "* Split analysis on two groups: probability and history. Set each of them value. History value should be lesser than prob one"
   ]
  },
  {
   "cell_type": "code",
   "execution_count": 64,
   "id": "2ee5c489",
   "metadata": {},
   "outputs": [
    {
     "name": "stdout",
     "output_type": "stream",
     "text": [
      "Note: you may need to restart the kernel to use updated packages.\n"
     ]
    },
    {
     "name": "stderr",
     "output_type": "stream",
     "text": [
      "\n",
      "[notice] A new release of pip is available: 24.2 -> 25.1.1\n",
      "[notice] To update, run: python.exe -m pip install --upgrade pip\n"
     ]
    },
    {
     "name": "stdout",
     "output_type": "stream",
     "text": [
      "Note: you may need to restart the kernel to use updated packages.\n"
     ]
    },
    {
     "name": "stderr",
     "output_type": "stream",
     "text": [
      "\n",
      "[notice] A new release of pip is available: 24.2 -> 25.1.1\n",
      "[notice] To update, run: python.exe -m pip install --upgrade pip\n"
     ]
    },
    {
     "name": "stdout",
     "output_type": "stream",
     "text": [
      "Note: you may need to restart the kernel to use updated packages.\n"
     ]
    },
    {
     "name": "stderr",
     "output_type": "stream",
     "text": [
      "\n",
      "[notice] A new release of pip is available: 24.2 -> 25.1.1\n",
      "[notice] To update, run: python.exe -m pip install --upgrade pip\n"
     ]
    },
    {
     "name": "stdout",
     "output_type": "stream",
     "text": [
      "Note: you may need to restart the kernel to use updated packages.\n"
     ]
    },
    {
     "name": "stderr",
     "output_type": "stream",
     "text": [
      "\n",
      "[notice] A new release of pip is available: 24.2 -> 25.1.1\n",
      "[notice] To update, run: python.exe -m pip install --upgrade pip\n"
     ]
    },
    {
     "name": "stdout",
     "output_type": "stream",
     "text": [
      "Note: you may need to restart the kernel to use updated packages.\n"
     ]
    },
    {
     "name": "stderr",
     "output_type": "stream",
     "text": [
      "\n",
      "[notice] A new release of pip is available: 24.2 -> 25.1.1\n",
      "[notice] To update, run: python.exe -m pip install --upgrade pip\n"
     ]
    },
    {
     "name": "stdout",
     "output_type": "stream",
     "text": [
      "Note: you may need to restart the kernel to use updated packages.\n"
     ]
    },
    {
     "name": "stderr",
     "output_type": "stream",
     "text": [
      "\n",
      "[notice] A new release of pip is available: 24.2 -> 25.1.1\n",
      "[notice] To update, run: python.exe -m pip install --upgrade pip\n"
     ]
    }
   ],
   "source": [
    "%pip install -q pandas\n",
    "%pip install -q seaborn \n",
    "%pip install -q matplotlib\n",
    "%pip install -q requests\n",
    "%pip install -q joblib\n",
    "%pip install -q scikit-learn"
   ]
  },
  {
   "cell_type": "code",
   "execution_count": 5,
   "id": "0e38c928-ad10-4abd-8157-da0425819da7",
   "metadata": {
    "tags": []
   },
   "outputs": [],
   "source": [
    "import pandas as pd\n",
    "import numpy as np\n",
    "import matplotlib.pyplot as plt\n",
    "import seaborn as sns"
   ]
  },
  {
   "cell_type": "code",
   "execution_count": 81,
   "id": "d88ec77a-9e2d-41bf-ad7d-1c7afbc1784e",
   "metadata": {
    "tags": []
   },
   "outputs": [
    {
     "name": "stdout",
     "output_type": "stream",
     "text": [
      "Downloaded and extracted successfully to ./\n"
     ]
    }
   ],
   "source": [
    "# Web scrapping\n",
    "from main import url_to_zip\n",
    "\n",
    "import requests\n",
    "import zipfile\n",
    "import os\n",
    "\n",
    "def download_and_extract_zip(url, destination_folder):\n",
    "    # Step 1: Download the zip file\n",
    "    response = requests.get(url)\n",
    "    \n",
    "    if response.status_code == 200:\n",
    "        # Step 2: Save the zip file locally\n",
    "        zip_filename = \"downloaded_file.zip\"\n",
    "        with open(zip_filename, 'wb') as f:\n",
    "            f.write(response.content)\n",
    "\n",
    "        # Step 3: Extract the contents of the zip file\n",
    "        with zipfile.ZipFile(zip_filename, 'r') as zip_ref:\n",
    "            zip_ref.extractall(destination_folder)\n",
    "\n",
    "        # Step 4: Delete the zip file\n",
    "        os.remove(zip_filename)\n",
    "        print(f\"Downloaded and extracted successfully to {destination_folder}\")\n",
    "    else:\n",
    "        print(f\"Failed to download the file. HTTP status code: {response.status_code}\")\n",
    "\n",
    "# Example usage\n",
    "download_and_extract_zip(url_to_zip, \"./\")"
   ]
  },
  {
   "cell_type": "code",
   "execution_count": 9,
   "id": "adbba909-e6a8-4d52-ba3b-6bc77f63006c",
   "metadata": {},
   "outputs": [],
   "source": [
    "from main import row_range\n",
    "# Create a DataFrame with all possible numbers from 1 to 49 inclusive\n",
    "all_numbers = pd.DataFrame({'number': range(1, row_range + 1)})"
   ]
  },
  {
   "cell_type": "code",
   "execution_count": 10,
   "id": "38ba5ef7-9c3c-4bc9-96f9-5a6ef960e027",
   "metadata": {
    "tags": []
   },
   "outputs": [],
   "source": [
    "from main import file_name\n",
    "df = pd.read_csv(file_name, sep=\";\")"
   ]
  },
  {
   "cell_type": "code",
   "execution_count": 11,
   "id": "6810378c-2a02-44a2-9809-1516a99a0cbf",
   "metadata": {},
   "outputs": [],
   "source": [
    "df = df[['boule_1', 'boule_2', 'boule_3', 'boule_4', 'boule_5', 'numero_chance', 'date_de_tirage']]"
   ]
  },
  {
   "cell_type": "code",
   "execution_count": 12,
   "id": "901e7802-b2f0-45f7-9acd-b40f950ba948",
   "metadata": {},
   "outputs": [
    {
     "data": {
      "text/html": [
       "<div>\n",
       "<style scoped>\n",
       "    .dataframe tbody tr th:only-of-type {\n",
       "        vertical-align: middle;\n",
       "    }\n",
       "\n",
       "    .dataframe tbody tr th {\n",
       "        vertical-align: top;\n",
       "    }\n",
       "\n",
       "    .dataframe thead th {\n",
       "        text-align: right;\n",
       "    }\n",
       "</style>\n",
       "<table border=\"1\" class=\"dataframe\">\n",
       "  <thead>\n",
       "    <tr style=\"text-align: right;\">\n",
       "      <th></th>\n",
       "      <th>boule_1</th>\n",
       "      <th>boule_2</th>\n",
       "      <th>boule_3</th>\n",
       "      <th>boule_4</th>\n",
       "      <th>boule_5</th>\n",
       "      <th>numero_chance</th>\n",
       "      <th>date_de_tirage</th>\n",
       "    </tr>\n",
       "  </thead>\n",
       "  <tbody>\n",
       "    <tr>\n",
       "      <th>0</th>\n",
       "      <td>32</td>\n",
       "      <td>26</td>\n",
       "      <td>2</td>\n",
       "      <td>5</td>\n",
       "      <td>44</td>\n",
       "      <td>10</td>\n",
       "      <td>25/06/2025</td>\n",
       "    </tr>\n",
       "    <tr>\n",
       "      <th>1</th>\n",
       "      <td>20</td>\n",
       "      <td>42</td>\n",
       "      <td>38</td>\n",
       "      <td>44</td>\n",
       "      <td>25</td>\n",
       "      <td>10</td>\n",
       "      <td>23/06/2025</td>\n",
       "    </tr>\n",
       "    <tr>\n",
       "      <th>2</th>\n",
       "      <td>34</td>\n",
       "      <td>25</td>\n",
       "      <td>49</td>\n",
       "      <td>18</td>\n",
       "      <td>20</td>\n",
       "      <td>2</td>\n",
       "      <td>21/06/2025</td>\n",
       "    </tr>\n",
       "    <tr>\n",
       "      <th>3</th>\n",
       "      <td>9</td>\n",
       "      <td>36</td>\n",
       "      <td>13</td>\n",
       "      <td>24</td>\n",
       "      <td>19</td>\n",
       "      <td>3</td>\n",
       "      <td>18/06/2025</td>\n",
       "    </tr>\n",
       "    <tr>\n",
       "      <th>4</th>\n",
       "      <td>1</td>\n",
       "      <td>2</td>\n",
       "      <td>13</td>\n",
       "      <td>39</td>\n",
       "      <td>4</td>\n",
       "      <td>1</td>\n",
       "      <td>16/06/2025</td>\n",
       "    </tr>\n",
       "    <tr>\n",
       "      <th>5</th>\n",
       "      <td>25</td>\n",
       "      <td>21</td>\n",
       "      <td>31</td>\n",
       "      <td>44</td>\n",
       "      <td>16</td>\n",
       "      <td>8</td>\n",
       "      <td>14/06/2025</td>\n",
       "    </tr>\n",
       "    <tr>\n",
       "      <th>6</th>\n",
       "      <td>9</td>\n",
       "      <td>19</td>\n",
       "      <td>7</td>\n",
       "      <td>18</td>\n",
       "      <td>15</td>\n",
       "      <td>6</td>\n",
       "      <td>11/06/2025</td>\n",
       "    </tr>\n",
       "    <tr>\n",
       "      <th>7</th>\n",
       "      <td>25</td>\n",
       "      <td>38</td>\n",
       "      <td>5</td>\n",
       "      <td>34</td>\n",
       "      <td>12</td>\n",
       "      <td>10</td>\n",
       "      <td>09/06/2025</td>\n",
       "    </tr>\n",
       "    <tr>\n",
       "      <th>8</th>\n",
       "      <td>7</td>\n",
       "      <td>30</td>\n",
       "      <td>40</td>\n",
       "      <td>37</td>\n",
       "      <td>45</td>\n",
       "      <td>1</td>\n",
       "      <td>07/06/2025</td>\n",
       "    </tr>\n",
       "    <tr>\n",
       "      <th>9</th>\n",
       "      <td>2</td>\n",
       "      <td>45</td>\n",
       "      <td>41</td>\n",
       "      <td>18</td>\n",
       "      <td>38</td>\n",
       "      <td>8</td>\n",
       "      <td>04/06/2025</td>\n",
       "    </tr>\n",
       "    <tr>\n",
       "      <th>10</th>\n",
       "      <td>25</td>\n",
       "      <td>36</td>\n",
       "      <td>29</td>\n",
       "      <td>8</td>\n",
       "      <td>13</td>\n",
       "      <td>2</td>\n",
       "      <td>02/06/2025</td>\n",
       "    </tr>\n",
       "    <tr>\n",
       "      <th>11</th>\n",
       "      <td>4</td>\n",
       "      <td>11</td>\n",
       "      <td>27</td>\n",
       "      <td>37</td>\n",
       "      <td>39</td>\n",
       "      <td>3</td>\n",
       "      <td>31/05/2025</td>\n",
       "    </tr>\n",
       "    <tr>\n",
       "      <th>12</th>\n",
       "      <td>26</td>\n",
       "      <td>32</td>\n",
       "      <td>25</td>\n",
       "      <td>38</td>\n",
       "      <td>4</td>\n",
       "      <td>4</td>\n",
       "      <td>28/05/2025</td>\n",
       "    </tr>\n",
       "    <tr>\n",
       "      <th>13</th>\n",
       "      <td>41</td>\n",
       "      <td>24</td>\n",
       "      <td>36</td>\n",
       "      <td>33</td>\n",
       "      <td>45</td>\n",
       "      <td>7</td>\n",
       "      <td>26/05/2025</td>\n",
       "    </tr>\n",
       "    <tr>\n",
       "      <th>14</th>\n",
       "      <td>49</td>\n",
       "      <td>39</td>\n",
       "      <td>45</td>\n",
       "      <td>14</td>\n",
       "      <td>32</td>\n",
       "      <td>9</td>\n",
       "      <td>24/05/2025</td>\n",
       "    </tr>\n",
       "    <tr>\n",
       "      <th>15</th>\n",
       "      <td>11</td>\n",
       "      <td>49</td>\n",
       "      <td>10</td>\n",
       "      <td>18</td>\n",
       "      <td>7</td>\n",
       "      <td>3</td>\n",
       "      <td>21/05/2025</td>\n",
       "    </tr>\n",
       "    <tr>\n",
       "      <th>16</th>\n",
       "      <td>8</td>\n",
       "      <td>30</td>\n",
       "      <td>43</td>\n",
       "      <td>42</td>\n",
       "      <td>33</td>\n",
       "      <td>4</td>\n",
       "      <td>19/05/2025</td>\n",
       "    </tr>\n",
       "    <tr>\n",
       "      <th>17</th>\n",
       "      <td>18</td>\n",
       "      <td>13</td>\n",
       "      <td>9</td>\n",
       "      <td>12</td>\n",
       "      <td>14</td>\n",
       "      <td>3</td>\n",
       "      <td>17/05/2025</td>\n",
       "    </tr>\n",
       "    <tr>\n",
       "      <th>18</th>\n",
       "      <td>34</td>\n",
       "      <td>42</td>\n",
       "      <td>31</td>\n",
       "      <td>12</td>\n",
       "      <td>43</td>\n",
       "      <td>10</td>\n",
       "      <td>14/05/2025</td>\n",
       "    </tr>\n",
       "    <tr>\n",
       "      <th>19</th>\n",
       "      <td>12</td>\n",
       "      <td>24</td>\n",
       "      <td>6</td>\n",
       "      <td>16</td>\n",
       "      <td>2</td>\n",
       "      <td>4</td>\n",
       "      <td>12/05/2025</td>\n",
       "    </tr>\n",
       "  </tbody>\n",
       "</table>\n",
       "</div>"
      ],
      "text/plain": [
       "    boule_1  boule_2  boule_3  boule_4  boule_5  numero_chance date_de_tirage\n",
       "0        32       26        2        5       44             10     25/06/2025\n",
       "1        20       42       38       44       25             10     23/06/2025\n",
       "2        34       25       49       18       20              2     21/06/2025\n",
       "3         9       36       13       24       19              3     18/06/2025\n",
       "4         1        2       13       39        4              1     16/06/2025\n",
       "5        25       21       31       44       16              8     14/06/2025\n",
       "6         9       19        7       18       15              6     11/06/2025\n",
       "7        25       38        5       34       12             10     09/06/2025\n",
       "8         7       30       40       37       45              1     07/06/2025\n",
       "9         2       45       41       18       38              8     04/06/2025\n",
       "10       25       36       29        8       13              2     02/06/2025\n",
       "11        4       11       27       37       39              3     31/05/2025\n",
       "12       26       32       25       38        4              4     28/05/2025\n",
       "13       41       24       36       33       45              7     26/05/2025\n",
       "14       49       39       45       14       32              9     24/05/2025\n",
       "15       11       49       10       18        7              3     21/05/2025\n",
       "16        8       30       43       42       33              4     19/05/2025\n",
       "17       18       13        9       12       14              3     17/05/2025\n",
       "18       34       42       31       12       43             10     14/05/2025\n",
       "19       12       24        6       16        2              4     12/05/2025"
      ]
     },
     "execution_count": 12,
     "metadata": {},
     "output_type": "execute_result"
    }
   ],
   "source": [
    "df.head(20)"
   ]
  },
  {
   "cell_type": "code",
   "execution_count": 13,
   "id": "e3945dcb-0a29-4f80-9739-1587ac6f091f",
   "metadata": {
    "tags": []
   },
   "outputs": [],
   "source": [
    "range_col = df['numero_chance']"
   ]
  },
  {
   "cell_type": "code",
   "execution_count": 25,
   "id": "dd493bf4-e509-46d2-8316-d06563117445",
   "metadata": {},
   "outputs": [
    {
     "data": {
      "image/png": "[encoded data removed]",
      "text/plain": [
       "<Figure size 1500x50 with 1 Axes>"
      ]
     },
     "metadata": {},
     "output_type": "display_data"
    },
    {
     "data": {
      "image/png": "[encoded data removed]",
      "text/plain": [
       "<Figure size 1500x50 with 1 Axes>"
      ]
     },
     "metadata": {},
     "output_type": "display_data"
    },
    {
     "data": {
      "image/png": "[encoded data removed]",
      "text/plain": [
       "<Figure size 1500x50 with 1 Axes>"
      ]
     },
     "metadata": {},
     "output_type": "display_data"
    },
    {
     "data": {
      "image/png": "[encoded data removed]",
      "text/plain": [
       "<Figure size 1500x50 with 1 Axes>"
      ]
     },
     "metadata": {},
     "output_type": "display_data"
    }
   ],
   "source": [
    "# HEATMAP\n",
    "def extract_data_frame(data_frame, first_n_rows=None):\n",
    "    \"\"\"\n",
    "    Returns a copy of the first_n_rows of the DataFrame, or the whole DataFrame if first_n_rows is None.\n",
    "    \"\"\"\n",
    "    if first_n_rows is None:\n",
    "        return data_frame.copy() # Return a copy of the entire DataFrame\n",
    "    return data_frame.iloc[:first_n_rows].copy() # starts from 0\n",
    "\n",
    "def show_heat_map(last_tirages=None):\n",
    "    \"\"\"\n",
    "    Displays a heatmap of the frequency of each number (1-49) in the last `last_tirages` draws.\n",
    "    If last_tirages is None, uses all available draws.\n",
    "    \"\"\"\n",
    "    extracted_df = extract_data_frame(df, last_tirages)\n",
    "    boule_cols = ['boule_1', 'boule_2', 'boule_3', 'boule_4', 'boule_5']\n",
    "    flat_df = extracted_df.melt(value_vars=boule_cols, var_name='boule', value_name='number')\n",
    "\n",
    "    tirages_count = len(extracted_df)\n",
    "\n",
    "    # Count occurrences of each number\n",
    "    number_counts = flat_df['number'].value_counts().reindex(range(1, 50), fill_value=0).sort_index()\n",
    "\n",
    "    plt.figure(figsize=(15, 0.5))\n",
    "    sns.heatmap(\n",
    "        np.array(number_counts.values).reshape(1, -1),\n",
    "        cmap=sns.light_palette(\"seagreen\", as_cmap=True),\n",
    "        annot=True,\n",
    "        fmt='d',\n",
    "        linewidths=.5,\n",
    "        cbar=False,\n",
    "        xticklabels=[str(x) for x in number_counts.index]\n",
    "    )\n",
    "    plt.title(f'Heatmap of last {tirages_count} tirages')\n",
    "    plt.yticks([])  # Hide y-axis ticks\n",
    "    plt.xlabel('Number')\n",
    "    # Remove plt.tight_layout() to avoid the warning about tight layout not being applied\n",
    "    plt.show()\n",
    "\n",
    "# Example usage\n",
    "for n in [5, 15, 50, None]:\n",
    "    show_heat_map(n)"
   ]
  },
  {
   "cell_type": "code",
   "execution_count": null,
   "id": "f8e481f2-7cad-4ed6-b561-4dc6ed639a81",
   "metadata": {
    "tags": []
   },
   "outputs": [
    {
     "name": "stdout",
     "output_type": "stream",
     "text": [
      "   boule_1 boule_2 boule_3 boule_4 boule_5                            Pattern\n",
      "0    green   green     red  purple    blue        green-green-red-purple-blue\n",
      "1   yellow     red  purple    blue    blue        yellow-red-purple-blue-blue\n",
      "2   yellow  yellow     red  purple    blue      yellow-yellow-red-purple-blue\n",
      "3    green  yellow  yellow     red  purple     green-yellow-yellow-red-purple\n",
      "4    green   green   green  yellow  purple    green-green-green-yellow-purple\n",
      "5   yellow     red     red  purple    blue         yellow-red-red-purple-blue\n",
      "6    green   green  yellow  yellow  yellow   green-green-yellow-yellow-yellow\n",
      "7    green  yellow     red  purple  purple     green-yellow-red-purple-purple\n",
      "8    green     red  purple  purple    blue       green-red-purple-purple-blue\n",
      "9    green  yellow  purple    blue    blue      green-yellow-purple-blue-blue\n",
      "10   green  yellow     red     red  purple        green-yellow-red-red-purple\n",
      "11   green  yellow     red  purple  purple     green-yellow-red-purple-purple\n",
      "12   green     red     red  purple  purple        green-red-red-purple-purple\n",
      "13     red  purple  purple    blue    blue        red-purple-purple-blue-blue\n",
      "14  yellow  purple  purple    blue    blue     yellow-purple-purple-blue-blue\n",
      "15   green   green  yellow  yellow    blue     green-green-yellow-yellow-blue\n",
      "16   green     red  purple    blue    blue         green-red-purple-blue-blue\n",
      "17   green  yellow  yellow  yellow  yellow  green-yellow-yellow-yellow-yellow\n",
      "18  yellow  purple  purple    blue    blue     yellow-purple-purple-blue-blue\n",
      "19   green   green  yellow  yellow     red      green-green-yellow-yellow-red\n",
      "0           green-green-red-purple-blue\n",
      "1           yellow-red-purple-blue-blue\n",
      "2         yellow-yellow-red-purple-blue\n",
      "3        green-yellow-yellow-red-purple\n",
      "4       green-green-green-yellow-purple\n",
      "5            yellow-red-red-purple-blue\n",
      "6      green-green-yellow-yellow-yellow\n",
      "7        green-yellow-red-purple-purple\n",
      "8          green-red-purple-purple-blue\n",
      "9         green-yellow-purple-blue-blue\n",
      "10          green-yellow-red-red-purple\n",
      "11       green-yellow-red-purple-purple\n",
      "12          green-red-red-purple-purple\n",
      "13          red-purple-purple-blue-blue\n",
      "14       yellow-purple-purple-blue-blue\n",
      "15       green-green-yellow-yellow-blue\n",
      "16           green-red-purple-blue-blue\n",
      "17    green-yellow-yellow-yellow-yellow\n",
      "18       yellow-purple-purple-blue-blue\n",
      "19        green-green-yellow-yellow-red\n",
      "Name: Pattern, dtype: object\n",
      "Pattern\n",
      "green-yellow-red-purple-blue      42\n",
      "green-green-yellow-purple-blue    28\n",
      "green-green-yellow-red-blue       24\n",
      "green-yellow-yellow-red-blue      22\n",
      "green-yellow-purple-blue-blue     22\n",
      "                                  ..\n",
      "green-green-green-blue-blue        1\n",
      "purple-purple-blue-blue-blue       1\n",
      "red-red-purple-purple-purple       1\n",
      "yellow-red-red-red-purple          1\n",
      "green-green-red-red-red            1\n",
      "Name: count, Length: 109, dtype: int64\n"
     ]
    }
   ],
   "source": [
    "# PATTERNS\n",
    "\n",
    "# Select only the boule columns (and optionally the date)\n",
    "boule_cols = ['boule_1', 'boule_2', 'boule_3', 'boule_4', 'boule_5']\n",
    "dfp = df[boule_cols].copy()\n",
    "\n",
    "# Sort the values within each row in ascending order efficiently\n",
    "sorted_df = dfp.apply(lambda row: sorted(row), axis=1, result_type='expand')\n",
    "sorted_df.columns = boule_cols\n",
    "\n",
    "# Define a vectorized function to categorize numbers\n",
    "def categorize_number_vec(numbers):\n",
    "    bins = [0, 10, 20, 30, 40, 49]\n",
    "    labels = ['green', 'yellow', 'red', 'purple', 'blue']\n",
    "    return pd.cut(numbers, bins=bins, labels=labels, right=True, include_lowest=True).astype(str)\n",
    "\n",
    "# Apply the categorization function to the DataFrame\n",
    "categorized_df = sorted_df.apply(categorize_number_vec)\n",
    "\n",
    "# Create a 'Pattern' column by joining the color categories for each row\n",
    "categorized_df['Pattern'] = categorized_df.apply(lambda row: '-'.join(row.values), axis=1)\n",
    "\n",
    "# Display the first 20 rows\n",
    "print(categorized_df.head(20))\n",
    "\n",
    "# Count occurrences of each unique pattern\n",
    "pattern_counts = pd.Series(categorized_df['Pattern']).value_counts()\n",
    "\n",
    "# Show the 'Pattern' column for the first 20 rows\n",
    "first_n_counts = pd.Series(categorized_df['Pattern']).head(20)\n",
    "print(first_n_counts)\n",
    "\n",
    "# Display the pattern counts\n",
    "print(pattern_counts)"
   ]
  },
  {
   "cell_type": "code",
   "execution_count": null,
   "id": "81557f66-5ff8-4025-828d-a068b63ee91b",
   "metadata": {
    "tags": []
   },
   "outputs": [
    {
     "name": "stdout",
     "output_type": "stream",
     "text": [
      "Legend:\n"
     ]
    },
    {
     "data": {
      "image/png": "[encoded data removed]",
      "text/plain": [
       "<Figure size 300x50 with 1 Axes>"
      ]
     },
     "metadata": {},
     "output_type": "display_data"
    }
   ],
   "source": [
    "\"\"\"\n",
    "Legend for Color Categories:\n",
    "\n",
    "This function displays a legend mapping color codes to number ranges used in pattern visualizations.\n",
    "\n",
    "- Green  (#8de5a1): 1-10\n",
    "- Yellow (#ffd92f): 11-20\n",
    "- Red    (#f77189): 21-30\n",
    "- Purple (#bb83f4): 31-40\n",
    "- Blue   (#3ba3ec): 41-49\n",
    "\n",
    "Usage:\n",
    "    plot_legend()\n",
    "\"\"\"\n",
    "\n",
    "import matplotlib.pyplot as plt\n",
    "import matplotlib.patches as patches\n",
    "\n",
    "def plot_legend():\n",
    "    \"\"\"\n",
    "    Display a legend for the color-coded number ranges used in pattern visualizations.\n",
    "\n",
    "    Color mapping:\n",
    "        - 1-10   : green  (#8de5a1)\n",
    "        - 11-20  : yellow (#ffd92f)\n",
    "        - 21-30  : red    (#f77189)\n",
    "        - 31-40  : purple (#bb83f4)\n",
    "        - 41-49  : blue   (#3ba3ec)\n",
    "    \"\"\"\n",
    "    colors = ['#8de5a1', '#ffd92f', '#f77189', '#bb83f4', '#3ba3ec']\n",
    "    labels = ['1-10', '11-20', '21-30', '31-40', '41-49']\n",
    "    num_rectangles = len(colors)\n",
    "    width, height = 1.0, 1.0\n",
    "\n",
    "    fig, ax = plt.subplots(figsize=(3, 0.5))\n",
    "    for i, (color, label) in enumerate(zip(colors, labels)):\n",
    "        rect = patches.Rectangle((i * width, 0), width, height, edgecolor='black', facecolor=color)\n",
    "        ax.add_patch(rect)\n",
    "\n",
    "    ax.set_xticks([width * i + width / 2 for i in range(num_rectangles)])\n",
    "    ax.set_xticklabels(labels)\n",
    "    ax.set_yticks([])\n",
    "    ax.set_ylabel('')\n",
    "    ax.set_xlim(0, num_rectangles * width)\n",
    "    ax.set_ylim(0, height)\n",
    "    plt.box(False)\n",
    "    print(\"Legend:\")\n",
    "    plt.show()\n",
    "\n",
    "plot_legend()"
   ]
  },
  {
   "cell_type": "code",
   "execution_count": 63,
   "id": "de41616b-0d74-4a9b-b2ef-bd3603d77181",
   "metadata": {
    "tags": []
   },
   "outputs": [
    {
     "data": {
      "image/png": "[encoded data removed]",
      "text/plain": [
       "<Figure size 300x1000 with 1 Axes>"
      ]
     },
     "metadata": {},
     "output_type": "display_data"
    }
   ],
   "source": [
    "import matplotlib.pyplot as plt\n",
    "import matplotlib.patches as patches\n",
    "import pandas as pd\n",
    "\n",
    "class PatternPlotter:\n",
    "    \"\"\"\n",
    "    Visualizes lottery draw patterns as color-coded rectangles.\n",
    "\n",
    "    Each row in the DataFrame should have a 'Pattern' column with color names\n",
    "    separated by '-', e.g., 'green-yellow-red-purple-blue'.\n",
    "\n",
    "    Attributes:\n",
    "        df (pd.DataFrame): DataFrame containing the 'Pattern' column.\n",
    "        color_mapping (dict): Maps color names to indices.\n",
    "        colors (list): List of hex color codes corresponding to color_mapping.\n",
    "    \"\"\"\n",
    "    def __init__(self, df):\n",
    "        self.df = df\n",
    "        self.color_mapping = {'green': 0, 'yellow': 1, 'red': 2, 'purple': 3, 'blue': 4}\n",
    "        self.colors = ['#8de5a1', '#ffd92f', '#f77189', '#bb83f4', '#3ba3ec']\n",
    "\n",
    "    def plot_patterns(self):\n",
    "        \"\"\"\n",
    "        Plots the patterns as rows of colored rectangles.\n",
    "        Each row represents a draw, and each rectangle a number's color category.\n",
    "        \"\"\"\n",
    "        n_rows = len(self.df)\n",
    "        if n_rows == 0:\n",
    "            print(\"No data to plot.\")\n",
    "            return\n",
    "\n",
    "        # Get number of pattern elements from the first row\n",
    "        pattern_colors = self.df.iloc[0]['Pattern'].split('-')\n",
    "        n_cols = len(pattern_colors)\n",
    "\n",
    "        fig, ax = plt.subplots(figsize=(3, max(1, n_rows / 2)))\n",
    "\n",
    "        # Iterate in reverse to show most recent at the top\n",
    "        for plot_idx, (_, row) in enumerate(self.df.iloc[::-1].iterrows()):\n",
    "            pattern_colors = row['Pattern'].split('-')\n",
    "            for i, color in enumerate(pattern_colors):\n",
    "                color_idx = self.color_mapping.get(color, None)\n",
    "                if color_idx is not None:\n",
    "                    rect = patches.Rectangle(\n",
    "                        (i, plot_idx), 1, 1,\n",
    "                        edgecolor='black',\n",
    "                        facecolor=self.colors[color_idx]\n",
    "                    )\n",
    "                    ax.add_patch(rect)\n",
    "                else:\n",
    "                    # If color not found, fill with gray\n",
    "                    rect = patches.Rectangle(\n",
    "                        (i, plot_idx), 1, 1,\n",
    "                        edgecolor='black',\n",
    "                        facecolor='#cccccc'\n",
    "                    )\n",
    "                    ax.add_patch(rect)\n",
    "\n",
    "        ax.set_xticks([])\n",
    "        ax.set_yticks([])\n",
    "        ax.set_xlabel('')\n",
    "        ax.set_ylabel('')\n",
    "        ax.set_xlim(0, n_cols)\n",
    "        ax.set_ylim(0, n_rows)\n",
    "        plt.box(False)\n",
    "        plt.tight_layout()\n",
    "        plt.show()\n",
    "\n",
    "# Example usage:\n",
    "# 'first_n_counts' should be a list of pattern strings, e.g.:\n",
    "# first_n_counts = ['green-yellow-red-purple-blue', ...]\n",
    "data = {\n",
    "    'Pattern': first_n_counts\n",
    "}\n",
    "df = pd.DataFrame(data)\n",
    "PatternPlotter(df).plot_patterns()"
   ]
  },
  {
   "cell_type": "code",
   "execution_count": 32,
   "id": "f4a2f3ea-1802-48f8-9fe1-7ce0ceac355b",
   "metadata": {
    "tags": []
   },
   "outputs": [
    {
     "name": "stdout",
     "output_type": "stream",
     "text": [
      "Test Set Accuracy: 0.4565\n",
      "Predicted pattern for next draw:\n"
     ]
    },
    {
     "data": {
      "image/png": "[encoded data removed]",
      "text/plain": [
       "<Figure size 300x100 with 1 Axes>"
      ]
     },
     "metadata": {},
     "output_type": "display_data"
    }
   ],
   "source": [
    "\"\"\"\n",
    "This section trains a Decision Tree Classifier to predict the next lottery pattern\n",
    "based on historical color patterns. It encodes color names to integers, splits the data,\n",
    "trains the model, evaluates accuracy, and predicts the next pattern.\n",
    "\"\"\"\n",
    "\n",
    "from sklearn.model_selection import train_test_split\n",
    "from sklearn.tree import DecisionTreeClassifier\n",
    "from sklearn.metrics import accuracy_score\n",
    "import joblib\n",
    "import numpy as np\n",
    "import pandas as pd\n",
    "\n",
    "# Map color names to integer codes for model input\n",
    "COLOR_MAPPING = {'green': 0, 'yellow': 1, 'red': 2, 'purple': 3, 'blue': 4}\n",
    "REVERSE_COLOR_MAPPING = {v: k for k, v in COLOR_MAPPING.items()}\n",
    "\n",
    "def encode_pattern(pattern_str, color_mapping):\n",
    "    \"\"\"Convert a pattern string to a list of integer codes.\"\"\"\n",
    "    return [color_mapping[color] for color in pattern_str.split('-')]\n",
    "\n",
    "def decode_pattern(encoded_pattern, reverse_mapping):\n",
    "    \"\"\"Convert a list of integer codes back to a pattern string.\"\"\"\n",
    "    return '-'.join([reverse_mapping[int(x)] for x in encoded_pattern])\n",
    "\n",
    "# Prepare DataFrame from categorized patterns\n",
    "data = {\n",
    "    'Pattern': categorized_df['Pattern']\n",
    "}\n",
    "df = pd.DataFrame(data)\n",
    "\n",
    "# Encode patterns as lists of integers\n",
    "df['PatternEncoded'] = df['Pattern'].apply(lambda x: encode_pattern(x, COLOR_MAPPING))\n",
    "\n",
    "# Prepare features (X) and targets (y) for supervised learning\n",
    "# X: all but last pattern, y: next pattern (shifted up by 1)\n",
    "X = df['PatternEncoded'].iloc[:-1].tolist()\n",
    "y = df['PatternEncoded'].shift(-1).dropna().tolist()\n",
    "\n",
    "# Split into training and test sets for evaluation\n",
    "X_train, X_test, y_train, y_test = train_test_split(\n",
    "    X, y, test_size=0.2, random_state=42\n",
    ")\n",
    "\n",
    "# Train Decision Tree Classifier\n",
    "clf = DecisionTreeClassifier()\n",
    "clf.fit(X_train, y_train)\n",
    "\n",
    "# Save the trained model for future use\n",
    "joblib.dump(clf, 'pattern-oracle.joblib')\n",
    "# To load: clf = joblib.load('pattern-oracle.joblib')\n",
    "\n",
    "# Evaluate model on test set\n",
    "y_pred_test = clf.predict(X_test)\n",
    "\n",
    "# Flatten lists for accuracy calculation\n",
    "y_pred_test_flat = [item for sublist in y_pred_test for item in sublist]\n",
    "y_test_flat = [item for sublist in y_test for item in sublist]\n",
    "\n",
    "accuracy = accuracy_score(y_test_flat, y_pred_test_flat)\n",
    "print(f'Test Set Accuracy: {accuracy:.4f}')\n",
    "\n",
    "# Predict the next pattern based on the most recent pattern\n",
    "first_row_features = np.array(df['PatternEncoded'].iloc[0]).reshape(1, -1)\n",
    "predicted_pattern = clf.predict(first_row_features)[0]\n",
    "predicted_pattern_str = decode_pattern(predicted_pattern, REVERSE_COLOR_MAPPING)\n",
    "\n",
    "print(\"Predicted pattern for next draw:\")\n",
    "# Visualize the predicted pattern\n",
    "predicted_df = pd.DataFrame({'Pattern': [predicted_pattern_str]})\n",
    "plotter = PatternPlotter(predicted_df)\n",
    "plotter.plot_patterns()"
   ]
  }
 ],
 "metadata": {
  "kernelspec": {
   "display_name": "Python 3 (ipykernel)",
   "language": "python",
   "name": "python3"
  },
  "language_info": {
   "codemirror_mode": {
    "name": "ipython",
    "version": 3
   },
   "file_extension": ".py",
   "mimetype": "text/x-python",
   "name": "python",
   "nbconvert_exporter": "python",
   "pygments_lexer": "ipython3",
   "version": "3.12.4"
  }
 },
 "nbformat": 4,
 "nbformat_minor": 5
}
