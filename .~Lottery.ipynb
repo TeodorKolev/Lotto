{
 "cells": [
  {
   "cell_type": "markdown",
   "id": "b9dcb03e-0ba4-4930-8678-4d88746e01b3",
   "metadata": {},
   "source": [
    "Tasks:\n",
    "* Create cronjob\n",
    "* Web scrapping\n",
    "* Download zip file\n",
    "* Unzip it\n",
    "* Read file which name start with \"lotto_\"\n",
    "\n",
    "Preparation:\n",
    "* Read file\n",
    "* Extract columns 'boule_1', 'boule_2', 'boule_3', 'boule_4', 'boule_5', 'numero_chance', year\n",
    "* Set custom range of rows (slider or input), predefine ranges - last 50, all, etc.\n",
    "\n",
    "Analysis:\n",
    "* Odd / Even - (3 odd + 2 even - 814 times)\n",
    "* Define patterns: (1-9 - blue, 10-19 - yellow, etc) occurencies (by year) count and PROBABILITY https://lottometrix.com/members/analysis-euromillions.php\n",
    "* Top Hot - most occurencies in row range\n",
    "* Top Cold - less occurencies on row range\n",
    "* Overdue - Number which isn't drawn for a long time (show be beyond range)\n",
    "* Pairs and frequency (2,14 - 5 times)\n",
    "* Sum and frequency (sum of all numbers: 132 - 56 times)\n",
    "* Low / High - split on 24(or 25) occurencies - (3 low, 2 high - 529 times)\n",
    "* Consecutives (0 - 1144 times, 1 - 311 times)\n",
    "* Regularity (each number is + 7) or (+7 +8 + 9 etc)\n",
    "* Following numbers\n",
    "* Non following numbers\n",
    "* Average numbers\n",
    "* Heat map chart\n",
    "\n",
    "AI:\n",
    "* Split analysis on two groups: probability and history. Set each of them value. History value should be lesser than prob one"
   ]
  },
  {
   "cell_type": "code",
   "execution_count": 1,
   "id": "0e38c928-ad10-4abd-8157-da0425819da7",
   "metadata": {
    "tags": []
   },
   "outputs": [],
   "source": [
    "import pandas as pd\n",
    "import numpy as np\n",
    "import matplotlib.pyplot as plt\n",
    "import seaborn as sns"
   ]
  },
  {
   "cell_type": "code",
   "execution_count": 2,
   "id": "d88ec77a-9e2d-41bf-ad7d-1c7afbc1784e",
   "metadata": {
    "tags": []
   },
   "outputs": [
    {
     "name": "stdout",
     "output_type": "stream",
     "text": [
      "Downloaded and extracted successfully to ./\n"
     ]
    }
   ],
   "source": [
    "# Web scrapping\n",
    "import requests\n",
    "import zipfile\n",
    "import os\n",
    "\n",
    "def download_and_extract_zip(url, destination_folder):\n",
    "    # Step 1: Download the zip file\n",
    "    response = requests.get(url)\n",
    "    \n",
    "    if response.status_code == 200:\n",
    "        # Step 2: Save the zip file locally\n",
    "        zip_filename = \"downloaded_file.zip\"\n",
    "        with open(zip_filename, 'wb') as f:\n",
    "            f.write(response.content)\n",
    "\n",
    "        # Step 3: Extract the contents of the zip file\n",
    "        with zipfile.ZipFile(zip_filename, 'r') as zip_ref:\n",
    "            zip_ref.extractall(destination_folder)\n",
    "\n",
    "        # Step 4: Delete the zip file\n",
    "        os.remove(zip_filename)\n",
    "        print(f\"Downloaded and extracted successfully to {destination_folder}\")\n",
    "    else:\n",
    "        print(f\"Failed to download the file. HTTP status code: {response.status_code}\")\n",
    "\n",
    "# Example usage\n",
    "url_to_zip = \"https://media.fdj.fr/static-draws/csv/loto/loto_201911.zip\"\n",
    "download_destination = \"./\"\n",
    "\n",
    "download_and_extract_zip(url_to_zip, download_destination)"
   ]
  },
  {
   "cell_type": "code",
   "execution_count": 3,
   "id": "adbba909-e6a8-4d52-ba3b-6bc77f63006c",
   "metadata": {},
   "outputs": [],
   "source": [
    "file_name = \"loto_201911.csv\"\n",
    "# Create a DataFrame with all possible numbers from 1 to 49\n",
    "all_numbers = pd.DataFrame({'number': range(1, 50)})"
   ]
  },
  {
   "cell_type": "code",
   "execution_count": 4,
   "id": "38ba5ef7-9c3c-4bc9-96f9-5a6ef960e027",
   "metadata": {
    "tags": []
   },
   "outputs": [],
   "source": [
    "df = pd.read_csv(file_name, sep=\";\")"
   ]
  },
  {
   "cell_type": "code",
   "execution_count": 5,
   "id": "6810378c-2a02-44a2-9809-1516a99a0cbf",
   "metadata": {},
   "outputs": [],
   "source": [
    "df = df[['boule_1', 'boule_2', 'boule_3', 'boule_4', 'boule_5', 'numero_chance', 'date_de_tirage']]"
   ]
  },
  {
   "cell_type": "code",
   "execution_count": 6,
   "id": "901e7802-b2f0-45f7-9acd-b40f950ba948",
   "metadata": {},
   "outputs": [
    {
     "data": {
      "text/html": [
       "<div>\n",
       "<style scoped>\n",
       "    .dataframe tbody tr th:only-of-type {\n",
       "        vertical-align: middle;\n",
       "    }\n",
       "\n",
       "    .dataframe tbody tr th {\n",
       "        vertical-align: top;\n",
       "    }\n",
       "\n",
       "    .dataframe thead th {\n",
       "        text-align: right;\n",
       "    }\n",
       "</style>\n",
       "<table border=\"1\" class=\"dataframe\">\n",
       "  <thead>\n",
       "    <tr style=\"text-align: right;\">\n",
       "      <th></th>\n",
       "      <th>boule_1</th>\n",
       "      <th>boule_2</th>\n",
       "      <th>boule_3</th>\n",
       "      <th>boule_4</th>\n",
       "      <th>boule_5</th>\n",
       "      <th>numero_chance</th>\n",
       "      <th>date_de_tirage</th>\n",
       "    </tr>\n",
       "  </thead>\n",
       "  <tbody>\n",
       "    <tr>\n",
       "      <th>0</th>\n",
       "      <td>19</td>\n",
       "      <td>41</td>\n",
       "      <td>42</td>\n",
       "      <td>43</td>\n",
       "      <td>45</td>\n",
       "      <td>2</td>\n",
       "      <td>20/01/2024</td>\n",
       "    </tr>\n",
       "    <tr>\n",
       "      <th>1</th>\n",
       "      <td>29</td>\n",
       "      <td>8</td>\n",
       "      <td>37</td>\n",
       "      <td>22</td>\n",
       "      <td>39</td>\n",
       "      <td>10</td>\n",
       "      <td>17/01/2024</td>\n",
       "    </tr>\n",
       "    <tr>\n",
       "      <th>2</th>\n",
       "      <td>11</td>\n",
       "      <td>7</td>\n",
       "      <td>15</td>\n",
       "      <td>23</td>\n",
       "      <td>19</td>\n",
       "      <td>4</td>\n",
       "      <td>15/01/2024</td>\n",
       "    </tr>\n",
       "    <tr>\n",
       "      <th>3</th>\n",
       "      <td>12</td>\n",
       "      <td>15</td>\n",
       "      <td>21</td>\n",
       "      <td>29</td>\n",
       "      <td>48</td>\n",
       "      <td>6</td>\n",
       "      <td>13/01/2024</td>\n",
       "    </tr>\n",
       "    <tr>\n",
       "      <th>4</th>\n",
       "      <td>12</td>\n",
       "      <td>28</td>\n",
       "      <td>32</td>\n",
       "      <td>45</td>\n",
       "      <td>38</td>\n",
       "      <td>9</td>\n",
       "      <td>10/01/2024</td>\n",
       "    </tr>\n",
       "  </tbody>\n",
       "</table>\n",
       "</div>"
      ],
      "text/plain": [
       "   boule_1  boule_2  boule_3  boule_4  boule_5  numero_chance date_de_tirage\n",
       "0       19       41       42       43       45              2     20/01/2024\n",
       "1       29        8       37       22       39             10     17/01/2024\n",
       "2       11        7       15       23       19              4     15/01/2024\n",
       "3       12       15       21       29       48              6     13/01/2024\n",
       "4       12       28       32       45       38              9     10/01/2024"
      ]
     },
     "execution_count": 6,
     "metadata": {},
     "output_type": "execute_result"
    }
   ],
   "source": [
    "df.head()"
   ]
  },
  {
   "cell_type": "code",
   "execution_count": 7,
   "id": "e3945dcb-0a29-4f80-9739-1587ac6f091f",
   "metadata": {
    "tags": []
   },
   "outputs": [],
   "source": [
    "range_col = df['numero_chance']"
   ]
  },
  {
   "cell_type": "code",
   "execution_count": 8,
   "id": "dd493bf4-e509-46d2-8316-d06563117445",
   "metadata": {},
   "outputs": [
    {
     "data": {
      "image/png": "[encoded data removed]",
      "text/plain": [
       "<Figure size 1500x50 with 1 Axes>"
      ]
     },
     "metadata": {},
     "output_type": "display_data"
    },
    {
     "data": {
      "image/png": "[encoded data removed]",
      "text/plain": [
       "<Figure size 1500x50 with 1 Axes>"
      ]
     },
     "metadata": {},
     "output_type": "display_data"
    },
    {
     "data": {
      "image/png": "[encoded data removed]",
      "text/plain": [
       "<Figure size 1500x50 with 1 Axes>"
      ]
     },
     "metadata": {},
     "output_type": "display_data"
    }
   ],
   "source": [
    "# HEATMAP\n",
    "def exctract_data_frame(data_frame, first_n_rows=None):\n",
    "    if first_n_rows is None:\n",
    "        return data_frame.copy()  # Return a copy of the entire DataFrame\n",
    "    else:\n",
    "        return data_frame.truncate(before=0, after=first_n_rows - 1) # starts from 0\n",
    "    \n",
    "\n",
    "def show_heat_map(last_tirages=None):\n",
    "    extracted_df = exctract_data_frame(df, last_tirages)\n",
    "    # print(extracted_df.head())\n",
    "    \n",
    "    # Reshape the DataFrame to a single column\n",
    "    flat_df = pd.melt(extracted_df, value_vars=['boule_1', 'boule_2', 'boule_3', 'boule_4', 'boule_5'],\n",
    "                      var_name='boule', value_name='number')\n",
    "    # print(f'Melt:\\n{flat_df}')\n",
    "    \n",
    "    tirages_count = int(len(flat_df) / 5)\n",
    "\n",
    "    # Create a pivot table to count the occurrences of each number\n",
    "    heatmap_data = flat_df.pivot_table(index='number', aggfunc='size', fill_value=0)\n",
    "    # print(f'Pivot:\\n {heatmap_data}')\n",
    "    \n",
    "    # Add missing values from 1 to 49 with a count of 0\n",
    "    heatmap_data = heatmap_data.reindex(index=range(1, 50), fill_value=0)\n",
    "    # print(f'Pivot 2:\\n {heatmap_data}')\n",
    "\n",
    "    # Get the numbers as the x-axis labels\n",
    "    numbers = heatmap_data.index\n",
    "    # print(numbers)\n",
    "\n",
    "    # Reshape the DataFrame to a 1D array\n",
    "    heatmap_data = heatmap_data.values\n",
    "\n",
    "    # Create a heatmap\n",
    "    plt.figure(figsize=(15, 0.5))\n",
    "    # print(heatmap_data.reshape(1, -1))\n",
    "    sns.heatmap(heatmap_data.reshape(1, -1), cmap=sns.light_palette(\"seagreen\"), annot=True, fmt='d', linewidths=.5, cbar=False,\n",
    "                xticklabels=numbers)\n",
    "    plt.title(f'Heatmap of last {tirages_count} tirages')\n",
    "    plt.show()\n",
    "    # sns.barplot(data=None, x=numbers, y=heatmap_data, width=1, fill=True)\n",
    "\n",
    "    \n",
    "show_heat_map(15)\n",
    "show_heat_map(50)\n",
    "show_heat_map()"
   ]
  },
  {
   "cell_type": "code",
   "execution_count": 9,
   "id": "f8e481f2-7cad-4ed6-b561-4dc6ed639a81",
   "metadata": {
    "tags": []
   },
   "outputs": [
    {
     "name": "stdout",
     "output_type": "stream",
     "text": [
      "         0       1       2       3       4                            Pattern\n",
      "0    green  purple  purple  purple  purple  green-purple-purple-purple-purple\n",
      "1   yellow     red     red    blue    blue           yellow-red-red-blue-blue\n",
      "2   yellow   green   green   green     red       yellow-green-green-green-red\n",
      "3    green   green     red     red  purple         green-green-red-red-purple\n",
      "4    green     red    blue    blue  purple         green-red-blue-blue-purple\n",
      "5   yellow   green  purple  purple  purple  yellow-green-purple-purple-purple\n",
      "6    green     red    blue  purple  purple       green-red-blue-purple-purple\n",
      "7   yellow  yellow   green    blue  purple    yellow-yellow-green-blue-purple\n",
      "8   yellow  yellow   green   green  purple   yellow-yellow-green-green-purple\n",
      "9   yellow   green   green    blue    blue       yellow-green-green-blue-blue\n",
      "10   green   green     red     red  purple         green-green-red-red-purple\n",
      "11  yellow  yellow  yellow    blue  purple   yellow-yellow-yellow-blue-purple\n",
      "12  yellow     red     red     red    blue            yellow-red-red-red-blue\n",
      "13  yellow  yellow     red     red    blue         yellow-yellow-red-red-blue\n",
      "14  yellow   green   green     red  purple      yellow-green-green-red-purple\n",
      "15  yellow   green   green     red  purple      yellow-green-green-red-purple\n",
      "16  yellow  yellow   green   green     red      yellow-yellow-green-green-red\n",
      "17   green   green     red  purple  purple      green-green-red-purple-purple\n",
      "18   green     red    blue    blue    blue           green-red-blue-blue-blue\n",
      "19  yellow     red     red    blue  purple         yellow-red-red-blue-purple\n",
      "20  yellow  yellow    blue  purple  purple   yellow-yellow-blue-purple-purple\n",
      "21   green   green   green     red     red          green-green-green-red-red\n",
      "22  yellow  yellow     red     red    blue         yellow-yellow-red-red-blue\n",
      "23  yellow  yellow   green     red  purple     yellow-yellow-green-red-purple\n",
      "24  yellow  yellow   green   green   green    yellow-yellow-green-green-green\n",
      "25  yellow   green   green  purple  purple   yellow-green-green-purple-purple\n",
      "26   green     red    blue  purple  purple       green-red-blue-purple-purple\n",
      "27   green   green     red     red  purple         green-green-red-red-purple\n",
      "28  yellow  yellow   green     red     red        yellow-yellow-green-red-red\n",
      "29   green     red    blue  purple  purple       green-red-blue-purple-purple\n",
      "30   green   green     red     red    blue           green-green-red-red-blue\n",
      "31  yellow  yellow   green    blue  purple    yellow-yellow-green-blue-purple\n",
      "32  yellow   green    blue    blue    blue        yellow-green-blue-blue-blue\n",
      "33   green   green     red    blue  purple        green-green-red-blue-purple\n",
      "34  yellow   green     red    blue  purple       yellow-green-red-blue-purple\n",
      "35  yellow  yellow   green     red    blue       yellow-yellow-green-red-blue\n",
      "36     red    blue    blue    blue    blue            red-blue-blue-blue-blue\n",
      "37   green     red     red    blue    blue            green-red-red-blue-blue\n",
      "38  yellow  yellow     red     red    blue         yellow-yellow-red-red-blue\n",
      "39  yellow   green     red     red  purple        yellow-green-red-red-purple\n",
      "40  yellow   green     red  purple  purple     yellow-green-red-purple-purple\n",
      "41  yellow  yellow     red    blue  purple      yellow-yellow-red-blue-purple\n",
      "42  yellow   green   green   green     red       yellow-green-green-green-red\n",
      "43  yellow  yellow   green   green     red      yellow-yellow-green-green-red\n",
      "44  yellow   green     red     red    blue          yellow-green-red-red-blue\n",
      "45  yellow  yellow   green     red  purple     yellow-yellow-green-red-purple\n",
      "46     red     red     red    blue    blue              red-red-red-blue-blue\n",
      "47  yellow  yellow   green   green    blue     yellow-yellow-green-green-blue\n",
      "48     red     red    blue  purple  purple         red-red-blue-purple-purple\n",
      "49   green   green     red     red  purple         green-green-red-red-purple\n",
      "Pattern\n",
      "yellow-green-red-blue-purple          29\n",
      "yellow-yellow-green-blue-purple       23\n",
      "yellow-yellow-green-red-purple        19\n",
      "green-red-blue-blue-purple            18\n",
      "yellow-green-blue-purple-purple       17\n",
      "                                      ..\n",
      "red-red-blue-blue-blue                 1\n",
      "blue-purple-purple-purple-purple       1\n",
      "yellow-yellow-yellow-purple-purple     1\n",
      "blue-blue-blue-blue-purple             1\n",
      "yellow-yellow-red-red-red              1\n",
      "Name: count, Length: 100, dtype: int64\n"
     ]
    }
   ],
   "source": [
    "# PATTERNS\n",
    "dfp = pd.DataFrame(df, columns=['boule_1', 'boule_2', 'boule_3', 'boule_4', 'boule_5']) # TODO add the date\n",
    "# print(dfp.head())\n",
    "\n",
    "# Sort the values within each row in ascending order\n",
    "sorted_df = dfp.apply(lambda row: pd.Series(row.sort_values().values), axis=1)\n",
    "# print(sorted_df.head())\n",
    "\n",
    "# Define a function to categorize a number\n",
    "def categorize_number(number):\n",
    "    if 1 <= number <= 10:\n",
    "        return 'yellow'\n",
    "    elif 11 <= number <= 20:\n",
    "        return 'green'\n",
    "    elif 21 <= number <= 30:\n",
    "        return 'red'\n",
    "    elif 31 <= number <= 40:\n",
    "        return 'blue'\n",
    "    elif 41 <= number <= 49:\n",
    "        return 'purple'\n",
    "    else:\n",
    "        return 'Out of range'\n",
    "\n",
    "# Apply the categorization function to each element in the DataFrame\n",
    "categorized_df = sorted_df.apply(lambda col: col.map(categorize_number))\n",
    "\n",
    "# Join the results to create a 'Pattern' column for each row\n",
    "categorized_df['Pattern'] = categorized_df.apply(lambda row: '-'.join(row), axis=1)\n",
    "\n",
    "# Display the result\n",
    "print(categorized_df.head(50))\n",
    "\n",
    "# Count occurrences of each unique pattern\n",
    "pattern_counts = categorized_df['Pattern'].value_counts()\n",
    "\n",
    "# Display the result\n",
    "print(pattern_counts)"
   ]
  },
  {
   "cell_type": "code",
   "execution_count": 10,
   "id": "a42c1847-604d-4380-ab5d-90c1b22dbd85",
   "metadata": {
    "tags": []
   },
   "outputs": [
    {
     "data": {
      "image/png": "[encoded data removed]",
      "text/plain": [
       "<Figure size 300x100 with 1 Axes>"
      ]
     },
     "metadata": {},
     "output_type": "display_data"
    }
   ],
   "source": [
    "# Define color names and corresponding colors\n",
    "color_names = ['yellow', 'green', 'red', 'blue', 'purple']\n",
    "colors = ['#ffd92f', '#8de5a1', '#f77189', '#3ba3ec', '#bb83f4']\n",
    "\n",
    "# Create a bar plot with color blocks\n",
    "fig, ax = plt.subplots(figsize=(3, 1))\n",
    "ax.bar(color_names, [1] * len(color_names), color=colors)\n",
    "\n",
    "# Remove y-axis ticks and labels\n",
    "ax.set_yticks([])\n",
    "ax.set_ylabel('')\n",
    "\n",
    "plt.show()"
   ]
  },
  {
   "cell_type": "code",
   "execution_count": 11,
   "id": "84cee74d-cd29-425d-b67a-6f2ca4fb7d88",
   "metadata": {
    "tags": []
   },
   "outputs": [
    {
     "ename": "NotImplementedError",
     "evalue": "Derived must override",
     "output_type": "error",
     "traceback": [
      "\u001b[1;31m---------------------------------------------------------------------------\u001b[0m",
      "\u001b[1;31mNotImplementedError\u001b[0m                       Traceback (most recent call last)",
      "Cell \u001b[1;32mIn[11], line 37\u001b[0m\n\u001b[0;32m     34\u001b[0m     \u001b[38;5;28;01mreturn\u001b[39;00m html\n\u001b[0;32m     36\u001b[0m \u001b[38;5;66;03m# Apply the function to the desired cell\u001b[39;00m\n\u001b[1;32m---> 37\u001b[0m df\u001b[38;5;241m.\u001b[39mat[\u001b[38;5;241m1\u001b[39m, \u001b[38;5;124m'\u001b[39m\u001b[38;5;124mColumn 3\u001b[39m\u001b[38;5;124m'\u001b[39m] \u001b[38;5;241m=\u001b[39m get_color_bar_html(\u001b[38;5;124m'\u001b[39m\u001b[38;5;124mgreen\u001b[39m\u001b[38;5;124m'\u001b[39m)  \u001b[38;5;66;03m# Replace 'green' with your color\u001b[39;00m\n\u001b[0;32m     39\u001b[0m \u001b[38;5;66;03m# Display the DataFrame with the embedded subplot\u001b[39;00m\n\u001b[0;32m     40\u001b[0m display(HTML(df\u001b[38;5;241m.\u001b[39mto_html(escape\u001b[38;5;241m=\u001b[39m\u001b[38;5;28;01mFalse\u001b[39;00m)))\n",
      "Cell \u001b[1;32mIn[11], line 23\u001b[0m, in \u001b[0;36mget_color_bar_html\u001b[1;34m(color)\u001b[0m\n\u001b[0;32m     21\u001b[0m ax\u001b[38;5;241m.\u001b[39mset_axis_off()\n\u001b[0;32m     22\u001b[0m rect \u001b[38;5;241m=\u001b[39m Patch(facecolor\u001b[38;5;241m=\u001b[39mcolor, edgecolor\u001b[38;5;241m=\u001b[39m\u001b[38;5;124m'\u001b[39m\u001b[38;5;124mblack\u001b[39m\u001b[38;5;124m'\u001b[39m)\n\u001b[1;32m---> 23\u001b[0m ax\u001b[38;5;241m.\u001b[39madd_patch(rect)\n\u001b[0;32m     25\u001b[0m \u001b[38;5;66;03m# Save the figure to a temporary file\u001b[39;00m\n\u001b[0;32m     26\u001b[0m buf \u001b[38;5;241m=\u001b[39m io\u001b[38;5;241m.\u001b[39mBytesIO()\n",
      "File \u001b[1;32m~\\anaconda3\\Lib\\site-packages\\matplotlib\\axes\\_base.py:2379\u001b[0m, in \u001b[0;36m_AxesBase.add_patch\u001b[1;34m(self, p)\u001b[0m\n\u001b[0;32m   2377\u001b[0m \u001b[38;5;28;01mif\u001b[39;00m p\u001b[38;5;241m.\u001b[39mget_clip_path() \u001b[38;5;129;01mis\u001b[39;00m \u001b[38;5;28;01mNone\u001b[39;00m:\n\u001b[0;32m   2378\u001b[0m     p\u001b[38;5;241m.\u001b[39mset_clip_path(\u001b[38;5;28mself\u001b[39m\u001b[38;5;241m.\u001b[39mpatch)\n\u001b[1;32m-> 2379\u001b[0m \u001b[38;5;28mself\u001b[39m\u001b[38;5;241m.\u001b[39m_update_patch_limits(p)\n\u001b[0;32m   2380\u001b[0m \u001b[38;5;28mself\u001b[39m\u001b[38;5;241m.\u001b[39m_children\u001b[38;5;241m.\u001b[39mappend(p)\n\u001b[0;32m   2381\u001b[0m p\u001b[38;5;241m.\u001b[39m_remove_method \u001b[38;5;241m=\u001b[39m \u001b[38;5;28mself\u001b[39m\u001b[38;5;241m.\u001b[39m_children\u001b[38;5;241m.\u001b[39mremove\n",
      "File \u001b[1;32m~\\anaconda3\\Lib\\site-packages\\matplotlib\\axes\\_base.py:2397\u001b[0m, in \u001b[0;36m_AxesBase._update_patch_limits\u001b[1;34m(self, patch)\u001b[0m\n\u001b[0;32m   2394\u001b[0m \u001b[38;5;28;01mif\u001b[39;00m (\u001b[38;5;28misinstance\u001b[39m(patch, mpatches\u001b[38;5;241m.\u001b[39mRectangle) \u001b[38;5;129;01mand\u001b[39;00m\n\u001b[0;32m   2395\u001b[0m         ((\u001b[38;5;129;01mnot\u001b[39;00m patch\u001b[38;5;241m.\u001b[39mget_width()) \u001b[38;5;129;01mand\u001b[39;00m (\u001b[38;5;129;01mnot\u001b[39;00m patch\u001b[38;5;241m.\u001b[39mget_height()))):\n\u001b[0;32m   2396\u001b[0m     \u001b[38;5;28;01mreturn\u001b[39;00m\n\u001b[1;32m-> 2397\u001b[0m p \u001b[38;5;241m=\u001b[39m patch\u001b[38;5;241m.\u001b[39mget_path()\n\u001b[0;32m   2398\u001b[0m \u001b[38;5;66;03m# Get all vertices on the path\u001b[39;00m\n\u001b[0;32m   2399\u001b[0m \u001b[38;5;66;03m# Loop through each segment to get extrema for Bezier curve sections\u001b[39;00m\n\u001b[0;32m   2400\u001b[0m vertices \u001b[38;5;241m=\u001b[39m []\n",
      "File \u001b[1;32m~\\anaconda3\\Lib\\site-packages\\matplotlib\\patches.py:601\u001b[0m, in \u001b[0;36mPatch.get_path\u001b[1;34m(self)\u001b[0m\n\u001b[0;32m    599\u001b[0m \u001b[38;5;28;01mdef\u001b[39;00m \u001b[38;5;21mget_path\u001b[39m(\u001b[38;5;28mself\u001b[39m):\n\u001b[0;32m    600\u001b[0m \u001b[38;5;250m    \u001b[39m\u001b[38;5;124;03m\"\"\"Return the path of this patch.\"\"\"\u001b[39;00m\n\u001b[1;32m--> 601\u001b[0m     \u001b[38;5;28;01mraise\u001b[39;00m \u001b[38;5;167;01mNotImplementedError\u001b[39;00m(\u001b[38;5;124m'\u001b[39m\u001b[38;5;124mDerived must override\u001b[39m\u001b[38;5;124m'\u001b[39m)\n",
      "\u001b[1;31mNotImplementedError\u001b[0m: Derived must override"
     ]
    },
    {
     "data": {
      "image/png": "[encoded data removed]",
      "text/plain": [
       "<Figure size 50x10 with 1 Axes>"
      ]
     },
     "metadata": {},
     "output_type": "display_data"
    }
   ],
   "source": [
    "import pandas as pd\n",
    "from IPython.display import display, HTML\n",
    "import matplotlib.pyplot as plt\n",
    "from matplotlib.patches import Patch\n",
    "from matplotlib.colors import to_rgba\n",
    "import io\n",
    "import base64\n",
    "\n",
    "# Sample data\n",
    "data = {\n",
    "    'Column 1': [1, 2, 3],\n",
    "    'Column 2': ['A', 'B', 'C'],\n",
    "    'Column 3': ['green', 'red', 'blue'],  # Replace with your color names\n",
    "}\n",
    "\n",
    "df = pd.DataFrame(data)\n",
    "\n",
    "# Function to convert color names to HTML with embedded image\n",
    "def get_color_bar_html(color):\n",
    "    fig, ax = plt.subplots(figsize=(0.5, 0.1))\n",
    "    ax.set_axis_off()\n",
    "    rect = Patch(facecolor=color, edgecolor='black')\n",
    "    ax.add_patch(rect)\n",
    "\n",
    "    # Save the figure to a temporary file\n",
    "    buf = io.BytesIO()\n",
    "    fig.savefig(buf, format='png', bbox_inches='tight')\n",
    "    plt.close(fig)\n",
    "\n",
    "    # Embed the image in HTML\n",
    "    encoded = base64.b64encode(buf.getvalue()).decode(\"utf-8\")\n",
    "    html = f'<img src=\"data:image/png;base64,{encoded}\" />'\n",
    "\n",
    "    return html\n",
    "\n",
    "# Apply the function to the desired cell\n",
    "df.at[1, 'Column 3'] = get_color_bar_html('green')  # Replace 'green' with your color\n",
    "\n",
    "# Display the DataFrame with the embedded subplot\n",
    "display(HTML(df.to_html(escape=False)))\n",
    "\n"
   ]
  },
  {
   "cell_type": "code",
   "execution_count": null,
   "id": "cfb5b04f-56d2-44c5-9c76-9e3edbf13b79",
   "metadata": {},
   "outputs": [],
   "source": []
  }
 ],
 "metadata": {
  "kernelspec": {
   "display_name": "Python 3 (ipykernel)",
   "language": "python",
   "name": "python3"
  },
  "language_info": {
   "codemirror_mode": {
    "name": "ipython",
    "version": 3
   },
   "file_extension": ".py",
   "mimetype": "text/x-python",
   "name": "python",
   "nbconvert_exporter": "python",
   "pygments_lexer": "ipython3",
   "version": "3.11.5"
  }
 },
 "nbformat": 4,
 "nbformat_minor": 5
}
